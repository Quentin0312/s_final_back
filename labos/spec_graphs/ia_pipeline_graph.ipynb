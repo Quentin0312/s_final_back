{
 "cells": [
  {
   "cell_type": "code",
   "execution_count": 1,
   "metadata": {},
   "outputs": [],
   "source": [
    "# OCR\n",
    "import easyocr\n",
    "from PIL import Image, ImageDraw, ImageFont\n",
    "import pandas as pd\n",
    "\n",
    "# NLP\n",
    "import spacy\n",
    "import torch\n",
    "\n",
    "\n",
    "import sys\n",
    "sys.path.append('..')\n",
    "from nlp import preprocessing, model_utils"
   ]
  },
  {
   "cell_type": "code",
   "execution_count": 2,
   "metadata": {},
   "outputs": [],
   "source": [
    "# TODO: Utiliser un exemple ou le modèle d'OCR fonctionne mieux !! Page avec une grande police pour visibilité sur le schéma\n",
    "# TODO: Ajouter la partie clustering"
   ]
  },
  {
   "cell_type": "markdown",
   "metadata": {},
   "source": [
    "# 1. OCR"
   ]
  },
  {
   "cell_type": "code",
   "execution_count": 3,
   "metadata": {},
   "outputs": [
    {
     "data": {
      "text/plain": [
       "[([[220, 75], [920, 75], [920, 186], [220, 186]],\n",
       "  'REDMI 12C',\n",
       "  0.9431594842359052),\n",
       " ([[522, 184], [916, 184], [916, 286], [522, 286]],\n",
       "  '6/128G0',\n",
       "  0.7904448339485585),\n",
       " ([[1165, 161], [1205, 161], [1205, 270], [1165, 270]],\n",
       "  '2',\n",
       "  0.07480668169648741),\n",
       " ([[218, 372], [899, 372], [899, 440], [218, 440]],\n",
       "  'Mediateck Helio G85',\n",
       "  0.7956549168575436),\n",
       " ([[369, 450], [899, 450], [899, 519], [369, 519]],\n",
       "  'ecran 6.71\" LCD',\n",
       "  0.9979231421001593),\n",
       " ([[267, 518], [906, 518], [906, 611], [267, 611]],\n",
       "  'capteur 50 mpixels',\n",
       "  0.9994344017238052),\n",
       " ([[283, 604], [901, 604], [901, 669], [283, 669]],\n",
       "  'batterie SOOOMAH',\n",
       "  0.8736896506456936),\n",
       " ([[408, 788], [932, 788], [932, 974], [408, 974]], '150', 0.9857664877309339),\n",
       " ([[498, 968], [885, 968], [885, 1018], [498, 1018]],\n",
       "  'au lieu de 210€',\n",
       "  0.5069783764983952),\n",
       " ([[1001, 1051], [1061, 1051], [1061, 1095], [1001, 1095]],\n",
       "  'Mi',\n",
       "  0.40643546321609453),\n",
       " ([[1050, 1299], [1760, 1299], [1760, 1400], [1050, 1400]],\n",
       "  'REDMI 12 46',\n",
       "  0.5964645304318898),\n",
       " ([[1374, 1407], [1766, 1407], [1766, 1509], [1374, 1509]],\n",
       "  '4/128G0',\n",
       "  0.9892760102300845),\n",
       " ([[1049, 1604], [1713, 1604], [1713, 1673], [1049, 1673]],\n",
       "  'MediaTek Helio G88',\n",
       "  0.759498757769976),\n",
       " ([[1045, 1682], [1641, 1682], [1641, 1749], [1045, 1749]],\n",
       "  'ecran 6.79\" 90HZ',\n",
       "  0.6254234176955569),\n",
       " ([[1039, 1754], [1679, 1754], [1679, 1843], [1039, 1843]],\n",
       "  'capteur 50 mpixels',\n",
       "  0.7348520687714151),\n",
       " ([[1047, 1834], [1662, 1834], [1662, 1901], [1047, 1901]],\n",
       "  'batterie SOOOMAH',\n",
       "  0.6037613196559553),\n",
       " ([[1032, 1987], [1581, 1987], [1581, 2184], [1032, 2184]],\n",
       "  '2z08',\n",
       "  0.6241549849510193),\n",
       " ([[1067, 2185], [1531, 2185], [1531, 2242], [1067, 2242]],\n",
       "  'au lieu de 250€',\n",
       "  0.5445372413815176),\n",
       " ([[144, 2239], [195, 2239], [195, 2367], [144, 2367]],\n",
       "  '!',\n",
       "  0.3026772615640425),\n",
       " ([[106, 2389], [148, 2389], [148, 2430], [106, 2430]],\n",
       "  'M',\n",
       "  0.3105374196348407),\n",
       " ([[482, 2574], [1437, 2574], [1437, 2664], [482, 2664]],\n",
       "  'NOS SNIAVRTPPHONES',\n",
       "  0.6282641209855372)]"
      ]
     },
     "execution_count": 3,
     "metadata": {},
     "output_type": "execute_result"
    }
   ],
   "source": [
    "image_path = \"../../datas/02/page0004_5.jpg\"\n",
    "# image_path = \"../../datas/01/page0002_4.jpg\"\n",
    "\n",
    "\n",
    "reader = easyocr.Reader(lang_list=[\"en\"])  # or fr ?\n",
    "results = reader.readtext(image_path)\n",
    "\n",
    "results"
   ]
  },
  {
   "cell_type": "code",
   "execution_count": 4,
   "metadata": {},
   "outputs": [
    {
     "data": {
      "text/plain": [
       "[{'word': 'REDMI 12C', 'position': (220, 75)},\n",
       " {'word': '6/128G0', 'position': (522, 184)},\n",
       " {'word': '2', 'position': (1165, 161)},\n",
       " {'word': 'Mediateck Helio G85', 'position': (218, 372)},\n",
       " {'word': 'ecran 6.71\" LCD', 'position': (369, 450)},\n",
       " {'word': 'capteur 50 mpixels', 'position': (267, 518)},\n",
       " {'word': 'batterie SOOOMAH', 'position': (283, 604)},\n",
       " {'word': '150', 'position': (408, 788)},\n",
       " {'word': 'au lieu de 210€', 'position': (498, 968)},\n",
       " {'word': 'Mi', 'position': (1001, 1051)},\n",
       " {'word': 'REDMI 12 46', 'position': (1050, 1299)},\n",
       " {'word': '4/128G0', 'position': (1374, 1407)},\n",
       " {'word': 'MediaTek Helio G88', 'position': (1049, 1604)},\n",
       " {'word': 'ecran 6.79\" 90HZ', 'position': (1045, 1682)},\n",
       " {'word': 'capteur 50 mpixels', 'position': (1039, 1754)},\n",
       " {'word': 'batterie SOOOMAH', 'position': (1047, 1834)},\n",
       " {'word': '2z08', 'position': (1032, 1987)},\n",
       " {'word': 'au lieu de 250€', 'position': (1067, 2185)},\n",
       " {'word': '!', 'position': (144, 2239)},\n",
       " {'word': 'M', 'position': (106, 2389)},\n",
       " {'word': 'NOS SNIAVRTPPHONES', 'position': (482, 2574)}]"
      ]
     },
     "execution_count": 4,
     "metadata": {},
     "output_type": "execute_result"
    }
   ],
   "source": [
    "words_data = []\n",
    "for word_group in results:\n",
    "\n",
    "    y = word_group[0][0][1]\n",
    "    x = word_group[0][0][0]\n",
    "\n",
    "    words_data.append({'word': word_group[1], \"position\": (int(x),int(y))})\n",
    "\n",
    "words_data"
   ]
  },
  {
   "cell_type": "code",
   "execution_count": 12,
   "metadata": {},
   "outputs": [
    {
     "data": {
      "text/html": [
       "<style type=\"text/css\">\n",
       "</style>\n",
       "<table id=\"T_27ddd\">\n",
       "  <thead>\n",
       "    <tr>\n",
       "      <th id=\"T_27ddd_level0_col0\" class=\"col_heading level0 col0\" >Mots</th>\n",
       "      <th id=\"T_27ddd_level0_col1\" class=\"col_heading level0 col1\" >Position</th>\n",
       "    </tr>\n",
       "  </thead>\n",
       "  <tbody>\n",
       "    <tr>\n",
       "      <td id=\"T_27ddd_row0_col0\" class=\"data row0 col0\" >REDMI 12C</td>\n",
       "      <td id=\"T_27ddd_row0_col1\" class=\"data row0 col1\" >(220, 75)</td>\n",
       "    </tr>\n",
       "    <tr>\n",
       "      <td id=\"T_27ddd_row1_col0\" class=\"data row1 col0\" >6/128G0</td>\n",
       "      <td id=\"T_27ddd_row1_col1\" class=\"data row1 col1\" >(522, 184)</td>\n",
       "    </tr>\n",
       "    <tr>\n",
       "      <td id=\"T_27ddd_row2_col0\" class=\"data row2 col0\" >2</td>\n",
       "      <td id=\"T_27ddd_row2_col1\" class=\"data row2 col1\" >(1165, 161)</td>\n",
       "    </tr>\n",
       "    <tr>\n",
       "      <td id=\"T_27ddd_row3_col0\" class=\"data row3 col0\" >Mediateck Helio G85</td>\n",
       "      <td id=\"T_27ddd_row3_col1\" class=\"data row3 col1\" >(218, 372)</td>\n",
       "    </tr>\n",
       "    <tr>\n",
       "      <td id=\"T_27ddd_row4_col0\" class=\"data row4 col0\" >ecran 6.71\" LCD</td>\n",
       "      <td id=\"T_27ddd_row4_col1\" class=\"data row4 col1\" >(369, 450)</td>\n",
       "    </tr>\n",
       "    <tr>\n",
       "      <td id=\"T_27ddd_row5_col0\" class=\"data row5 col0\" >capteur 50 mpixels</td>\n",
       "      <td id=\"T_27ddd_row5_col1\" class=\"data row5 col1\" >(267, 518)</td>\n",
       "    </tr>\n",
       "    <tr>\n",
       "      <td id=\"T_27ddd_row6_col0\" class=\"data row6 col0\" >batterie SOOOMAH</td>\n",
       "      <td id=\"T_27ddd_row6_col1\" class=\"data row6 col1\" >(283, 604)</td>\n",
       "    </tr>\n",
       "    <tr>\n",
       "      <td id=\"T_27ddd_row7_col0\" class=\"data row7 col0\" >150</td>\n",
       "      <td id=\"T_27ddd_row7_col1\" class=\"data row7 col1\" >(408, 788)</td>\n",
       "    </tr>\n",
       "    <tr>\n",
       "      <td id=\"T_27ddd_row8_col0\" class=\"data row8 col0\" >au lieu de 210€</td>\n",
       "      <td id=\"T_27ddd_row8_col1\" class=\"data row8 col1\" >(498, 968)</td>\n",
       "    </tr>\n",
       "    <tr>\n",
       "      <td id=\"T_27ddd_row9_col0\" class=\"data row9 col0\" >Mi</td>\n",
       "      <td id=\"T_27ddd_row9_col1\" class=\"data row9 col1\" >(1001, 1051)</td>\n",
       "    </tr>\n",
       "    <tr>\n",
       "      <td id=\"T_27ddd_row10_col0\" class=\"data row10 col0\" >REDMI 12 46</td>\n",
       "      <td id=\"T_27ddd_row10_col1\" class=\"data row10 col1\" >(1050, 1299)</td>\n",
       "    </tr>\n",
       "    <tr>\n",
       "      <td id=\"T_27ddd_row11_col0\" class=\"data row11 col0\" >4/128G0</td>\n",
       "      <td id=\"T_27ddd_row11_col1\" class=\"data row11 col1\" >(1374, 1407)</td>\n",
       "    </tr>\n",
       "    <tr>\n",
       "      <td id=\"T_27ddd_row12_col0\" class=\"data row12 col0\" >MediaTek Helio G88</td>\n",
       "      <td id=\"T_27ddd_row12_col1\" class=\"data row12 col1\" >(1049, 1604)</td>\n",
       "    </tr>\n",
       "    <tr>\n",
       "      <td id=\"T_27ddd_row13_col0\" class=\"data row13 col0\" >ecran 6.79\" 90HZ</td>\n",
       "      <td id=\"T_27ddd_row13_col1\" class=\"data row13 col1\" >(1045, 1682)</td>\n",
       "    </tr>\n",
       "    <tr>\n",
       "      <td id=\"T_27ddd_row14_col0\" class=\"data row14 col0\" >capteur 50 mpixels</td>\n",
       "      <td id=\"T_27ddd_row14_col1\" class=\"data row14 col1\" >(1039, 1754)</td>\n",
       "    </tr>\n",
       "    <tr>\n",
       "      <td id=\"T_27ddd_row15_col0\" class=\"data row15 col0\" >batterie SOOOMAH</td>\n",
       "      <td id=\"T_27ddd_row15_col1\" class=\"data row15 col1\" >(1047, 1834)</td>\n",
       "    </tr>\n",
       "    <tr>\n",
       "      <td id=\"T_27ddd_row16_col0\" class=\"data row16 col0\" >2z08</td>\n",
       "      <td id=\"T_27ddd_row16_col1\" class=\"data row16 col1\" >(1032, 1987)</td>\n",
       "    </tr>\n",
       "    <tr>\n",
       "      <td id=\"T_27ddd_row17_col0\" class=\"data row17 col0\" >au lieu de 250€</td>\n",
       "      <td id=\"T_27ddd_row17_col1\" class=\"data row17 col1\" >(1067, 2185)</td>\n",
       "    </tr>\n",
       "    <tr>\n",
       "      <td id=\"T_27ddd_row18_col0\" class=\"data row18 col0\" >!</td>\n",
       "      <td id=\"T_27ddd_row18_col1\" class=\"data row18 col1\" >(144, 2239)</td>\n",
       "    </tr>\n",
       "    <tr>\n",
       "      <td id=\"T_27ddd_row19_col0\" class=\"data row19 col0\" >M</td>\n",
       "      <td id=\"T_27ddd_row19_col1\" class=\"data row19 col1\" >(106, 2389)</td>\n",
       "    </tr>\n",
       "    <tr>\n",
       "      <td id=\"T_27ddd_row20_col0\" class=\"data row20 col0\" >NOS SNIAVRTPPHONES</td>\n",
       "      <td id=\"T_27ddd_row20_col1\" class=\"data row20 col1\" >(482, 2574)</td>\n",
       "    </tr>\n",
       "  </tbody>\n",
       "</table>\n"
      ],
      "text/plain": [
       "<pandas.io.formats.style.Styler at 0x7f9de5302f10>"
      ]
     },
     "execution_count": 12,
     "metadata": {},
     "output_type": "execute_result"
    }
   ],
   "source": [
    "# Visualise with pandas Dataframe\n",
    "df = pd.DataFrame({\n",
    "    \"Mots\": [word[\"word\"] for word in words_data],\n",
    "    \"Position\": [word[\"position\"] for word in words_data]\n",
    "})\n",
    "\n",
    "styled_df = df.style.hide()\n",
    "styled_df"
   ]
  },
  {
   "cell_type": "markdown",
   "metadata": {},
   "source": [
    "# 2. Texte sur fond blanc"
   ]
  },
  {
   "cell_type": "code",
   "execution_count": 6,
   "metadata": {},
   "outputs": [],
   "source": [
    "\n",
    "def create_image_with_words(image_path, words_data):\n",
    "    # Ouvrir l'image\n",
    "    original_image = Image.open(image_path)\n",
    "    \n",
    "    # Créer une nouvelle image avec le même mode et la même taille que l'originale\n",
    "    new_image = Image.new(original_image.mode, original_image.size, color='white')\n",
    "\n",
    "    # Initialiser le dessinateur\n",
    "    draw = ImageDraw.Draw(new_image)\n",
    "\n",
    "    # Copier les mots à leurs positions\n",
    "    for word_info in words_data:\n",
    "        word = word_info['word']\n",
    "        position = word_info['position']\n",
    "\n",
    "        # Extraire les coordonnées de la position\n",
    "        x, y = position\n",
    "\n",
    "        # Utiliser une police avec la taille spécifiée\n",
    "        font = ImageFont.load_default()\n",
    "        font = font.font_variant(size=70)\n",
    "        # font = font.font_variant(size=10)\n",
    "\n",
    "\n",
    "        draw.text((x, y), word, fill='black', font=font)\n",
    "\n",
    "    # Enregistrer l'image résultante\n",
    "    new_image.save(\"ocr_output_drawn.png\")"
   ]
  },
  {
   "cell_type": "code",
   "execution_count": 7,
   "metadata": {},
   "outputs": [],
   "source": [
    "create_image_with_words(image_path, words_data)"
   ]
  },
  {
   "cell_type": "markdown",
   "metadata": {},
   "source": [
    "# 3. Nettoyage du texte"
   ]
  },
  {
   "cell_type": "code",
   "execution_count": 8,
   "metadata": {},
   "outputs": [
    {
     "data": {
      "text/plain": [
       "'redmi ecran lcd capteur batterie au lieu de mi redmi ecran hz capteur batterie au lieu de notre'"
      ]
     },
     "execution_count": 8,
     "metadata": {},
     "output_type": "execute_result"
    }
   ],
   "source": [
    "words = []\n",
    "for word_group in words_data:\n",
    "    words.append(word_group[\"word\"])\n",
    "\n",
    "raw_text = \" \".join(words)\n",
    "\n",
    "nlp = spacy.load(\"fr_core_news_lg\")\n",
    "\n",
    "cleaned_text = preprocessing.full_cleaning(raw_text, nlp)\n",
    "\n",
    "cleaned_text"
   ]
  },
  {
   "cell_type": "markdown",
   "metadata": {},
   "source": [
    "# 4. NLP - Catégorisation"
   ]
  },
  {
   "cell_type": "code",
   "execution_count": 9,
   "metadata": {},
   "outputs": [
    {
     "name": "stdout",
     "output_type": "stream",
     "text": [
      "result [[0.10481512 0.66739035 0.22779457]]\n",
      "class_prediction => Électroménager  | Ustensiles\n"
     ]
    }
   ],
   "source": [
    "with open(\"../nlp/vocab.txt\", \"r\") as vocab_file:\n",
    "    vocabulary = vocab_file.read().split(\"|\")\n",
    "    vocab_file.close()\n",
    "\n",
    "input = preprocessing.get_bags_of_words_vector(cleaned_text,vocabulary)\n",
    "\n",
    "model = model_utils.PageClassifier(len(vocabulary), 3) # Carefull here 3 is static parameters\n",
    "model.load_state_dict(torch.load(\"../nlp/model_weight.pth\"))\n",
    "\n",
    "model_utils.predict(model,input)"
   ]
  }
 ],
 "metadata": {
  "kernelspec": {
   "display_name": ".env",
   "language": "python",
   "name": "python3"
  },
  "language_info": {
   "codemirror_mode": {
    "name": "ipython",
    "version": 3
   },
   "file_extension": ".py",
   "mimetype": "text/x-python",
   "name": "python",
   "nbconvert_exporter": "python",
   "pygments_lexer": "ipython3",
   "version": "3.11.6"
  }
 },
 "nbformat": 4,
 "nbformat_minor": 2
}
