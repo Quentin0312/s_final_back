{
 "cells": [
  {
   "cell_type": "code",
   "execution_count": 1,
   "metadata": {},
   "outputs": [],
   "source": [
    "import spacy"
   ]
  },
  {
   "cell_type": "markdown",
   "metadata": {},
   "source": [
    "# Ce nettoyage ne correspond pas au nettoyage liée à l'import des données en db !"
   ]
  },
  {
   "cell_type": "code",
   "execution_count": 2,
   "metadata": {},
   "outputs": [],
   "source": [
    "# Certain chars seront à garder dans la db pour l'utilisation final (recherche par mots clés) mais suppr pour l'utilisation du modèle !"
   ]
  },
  {
   "cell_type": "markdown",
   "metadata": {},
   "source": [
    "# 1. Cleaning"
   ]
  },
  {
   "cell_type": "code",
   "execution_count": 3,
   "metadata": {},
   "outputs": [],
   "source": [
    "special_chars = [\"/\",\"\\\"\", \",\", \";\", \"[\", \"]\", \"€\", \"(\", \")\",\"0\",\"1\",\"2\",\"3\",\"4\",\"5\",\"6\",\"7\",\"8\",\"9\",\"_\",\".\",\">\",\"<\"]  # TODO: add more ! (NOT \"'\" => mot composé géré par spacy !)\n",
    "not_a_word_letter = [\"b\",\"c\",\"d\",\"e\",\"f\",\"g\",\"h\",\"i\",\"j\",\"k\",\"l\",\"m\",\"n\",\"o\",\"p\",\"q\",\"r\",\"s\",\"t\",\"u\",\"w\",\"v\",\"x\",\"y\",\"z\"]\n",
    "data = 'PORTABLES LENOVO IDEAZMGOOBWFEZ 1 15.6\" LED FHD, AMD Ryzen 5 7520U, 8G0, SSD 512G0, WiFi / Bluetooth; Webcam; Windows II Famille 4778 Soit 3x] 1598 Dont O30€ dezopattic Dation 1 1 Eje] 3 3 1 5 1 LENOVO IDEAPAD 3 (81WQOOAMFR) 15.6\" LED Full HD, Intel NSO3O, 8Go,256G0 WiFi AC Bluetooth; Webcam; Windows IIH 1 399€ SoitFxl 1330 1 Dont 0.0€ decoparticipaion 1 1 HP LAPTOP 17-CPZOOONF  173\" LED FHDUPGOtMDevzen 5 W2OOwsGfasiei2Go, 678€ Soit 3x 226€ Cont O.30€ decopanizipaton LENOVO V15 (82TTOOEVFR) 15.6\" LED FHD, Intel Core i3-1215U,8G0,512G0 WiFi Bluetooth; Webcam; Windows II Famille 64 bits 1 4898 j Soit 3X 163€ Dont 030€ decopant zipation 1 ] L 15.6\" LED FHDA IPSOPMS EG209ZMOCBLTGGGASD 512G0, WiFi Bluetooth; Webcam; Windows II Famille 789€ Soit/3x 263€ Dcnt OZO€ decoparticipaticn HP LAPTOP 15S-FQSOZSNF (8R8Q4EA) 15.6\" LED FHD, Intel Core i5-1235U,16G0,SSD 512G0, WiFi Bluetooth; Webcam; Windows II Famille 7478 EN > Soit 3X 249€ Dont 030€ decoparticipajicn SUR LIGNE ACHATS WWWDISTRIPCCOM Vos FAITES'"
   ]
  },
  {
   "cell_type": "code",
   "execution_count": 4,
   "metadata": {},
   "outputs": [
    {
     "name": "stdout",
     "output_type": "stream",
     "text": [
      "portables lenovo ideazmgoobwfez led fhd amd ryzen ssd wifi bluetooth webcam windows ii famille soit dont dezopattic dation eje lenovo ideapad wqooamfr led full hd intel nso go wifi ac bluetooth webcam windows iih soitfxl dont decoparticipaion hp laptop -cpzooonf led fhdupgotmdevzen w oowsgfasiei go soit cont decopanizipaton lenovo ttooevfr led fhd intel core - wifi bluetooth webcam windows ii famille bits soit dont decopant zipation led fhda ipsopms eg zmocbltgggasd wifi bluetooth webcam windows ii famille soit dcnt ozo decoparticipaticn hp laptop s-fqsozsnf ea led fhd intel core - ssd wifi bluetooth webcam windows ii famille en > soit dont decoparticipajicn sur ligne achats wwwdistripccom vos faites\n"
     ]
    }
   ],
   "source": [
    "# Lower case all letters\n",
    "data = data.lower()\n",
    "\n",
    "# Remove special chars\n",
    "for char in special_chars:\n",
    "    data = data.replace(char, ' ')\n",
    "\n",
    "# REmove single letters\n",
    "for letter in not_a_word_letter:\n",
    "    data = data.replace(\" \" +letter+ \" \", \"   \")\n",
    "\n",
    "# Removes spaces\n",
    "while data.find(\"  \") != -1:\n",
    "    data = data.replace(\"  \", \" \")\n",
    "\n",
    "print(data)"
   ]
  },
  {
   "cell_type": "code",
   "execution_count": 5,
   "metadata": {},
   "outputs": [],
   "source": [
    "nlp = spacy.load(\"fr_core_news_lg\")"
   ]
  },
  {
   "cell_type": "code",
   "execution_count": 6,
   "metadata": {},
   "outputs": [
    {
     "name": "stdout",
     "output_type": "stream",
     "text": [
      "['portables', 'lenovo', 'led', 'amd', 'ssd', 'wifi', 'bluetooth', 'webcam', 'windows', 'ii', 'famille', 'soit', 'dont', 'dation', 'eje', 'lenovo', 'led', 'full', 'hd', 'intel', 'go', 'wifi', 'ac', 'bluetooth', 'webcam', 'windows', 'dont', 'hp', 'laptop', 'led', 'w', 'go', 'soit', 'cont', 'lenovo', 'led', 'intel', 'core', '-', 'wifi', 'bluetooth', 'webcam', 'windows', 'ii', 'famille', 'bits', 'soit', 'dont', 'led', 'eg', 'wifi', 'bluetooth', 'webcam', 'windows', 'ii', 'famille', 'soit', 'hp', 'laptop', 'ea', 'led', 'intel', 'core', '-', 'ssd', 'wifi', 'bluetooth', 'webcam', 'windows', 'ii', 'famille', 'en', '>', 'soit', 'dont', 'sur', 'ligne', 'achats', 'vos', 'faites']\n"
     ]
    }
   ],
   "source": [
    "# TODO: To enhance cleaning after that check if the word is nor french or english to remove it (brand names list exception to have !)\n",
    "# Remove word that is out of vocabulary of spacy \"fr_core_news_lg\"\n",
    "new_token_list = []\n",
    "for token in data.split(\" \"):\n",
    "    if not (nlp.vocab[token].is_oov):\n",
    "        new_token_list.append(token)\n",
    "\n",
    "data = ' '.join(new_token_list)\n",
    "print(data)"
   ]
  },
  {
   "cell_type": "code",
   "execution_count": 8,
   "metadata": {},
   "outputs": [],
   "source": [
    "\"\"\" ! Stoped here !!!!\n",
    "TODO:   - Lemmatization of the tokens\n",
    "        - Create a vocab\n",
    "        - Redo the process with all the datas from \"datas\" folder (aim is to make a model that works even if accuracy is terrible)\n",
    "            - Save in db all datas from \"datas\" folder (new table \"catalog\" is to add to db schema)\n",
    "        - Setup the features extraction (BOW (see chatGPT discussion))\n",
    "        - Assign label to data\n",
    "        - Create a simple pytorch nn model\n",
    "        - train it\n",
    "            - val and test set to setup\n",
    "            - Setup metrics\n",
    "\"\"\""
   ]
  },
  {
   "cell_type": "markdown",
   "metadata": {},
   "source": [
    "# 2. Tokenisation"
   ]
  },
  {
   "cell_type": "code",
   "execution_count": null,
   "metadata": {},
   "outputs": [
    {
     "name": "stdout",
     "output_type": "stream",
     "text": [
      "Original Text: C'est avec plaisir que j'ai mangé des pommes à la belle étoiles !\n",
      "Lemmatized Text: ce être avec plaisir que je avoir manger un pomme à le bel étoile !\n"
     ]
    }
   ],
   "source": [
    "import spacy\n",
    "\n",
    "# Load the spaCy English language model\n",
    "nlp = spacy.load(\"fr_core_news_lg\")\n",
    "\n",
    "# Example text\n",
    "text = \"C'est avec plaisir que j'ai mangé des pommes à la belle étoiles !\"\n",
    "\n",
    "# Process the text with spaCy\n",
    "doc = nlp(text)\n",
    "\n",
    "# Lemmatize each token in the document\n",
    "lemmatized_tokens = [token.lemma_ for token in doc]\n",
    "\n",
    "# Join the lemmatized tokens into a string\n",
    "lemmatized_text = \" \".join(lemmatized_tokens)\n",
    "\n",
    "# Print the original and lemmatized text\n",
    "print(\"Original Text:\", text)\n",
    "print(\"Lemmatized Text:\", lemmatized_text)\n"
   ]
  }
 ],
 "metadata": {
  "kernelspec": {
   "display_name": ".env",
   "language": "python",
   "name": "python3"
  },
  "language_info": {
   "codemirror_mode": {
    "name": "ipython",
    "version": 3
   },
   "file_extension": ".py",
   "mimetype": "text/x-python",
   "name": "python",
   "nbconvert_exporter": "python",
   "pygments_lexer": "ipython3",
   "version": "3.11.6"
  }
 },
 "nbformat": 4,
 "nbformat_minor": 2
}
