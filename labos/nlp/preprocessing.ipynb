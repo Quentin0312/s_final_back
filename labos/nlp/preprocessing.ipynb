{
 "cells": [
  {
   "cell_type": "code",
   "execution_count": 6,
   "metadata": {},
   "outputs": [],
   "source": [
    "# Certain chars seront à garder dans la db pour l'utilisation final (recherche par mots clés) mais suppr pour l'utilisation du modèle !"
   ]
  },
  {
   "cell_type": "code",
   "execution_count": 7,
   "metadata": {},
   "outputs": [],
   "source": [
    "bad_chars_to_remove_for_NLP_model = [\"/\",\"\\\"\", \",\", \";\", \"[\", \"]\", \"€\", \"(\", \")\",\"0\",\"1\",\"2\",\"3\",\"4\",\"5\",\"6\",\"7\",\"8\",\"9\",\"_\"]  # TODO: add more !\n",
    "data = 'PORTABLES LENOVO IDEAZMGOOBWFEZ 1 15.6\" LED FHD, AMD Ryzen 5 7520U, 8G0, SSD 512G0, WiFi / Bluetooth; Webcam; Windows II Famille 4778 Soit 3x] 1598 Dont O30€ dezopattic Dation 1 1 Eje] 3 3 1 5 1 LENOVO IDEAPAD 3 (81WQOOAMFR) 15.6\" LED Full HD, Intel NSO3O, 8Go,256G0 WiFi AC Bluetooth; Webcam; Windows IIH 1 399€ SoitFxl 1330 1 Dont 0.0€ decoparticipaion 1 1 HP LAPTOP 17-CPZOOONF  173\" LED FHDUPGOtMDevzen 5 W2OOwsGfasiei2Go, 678€ Soit 3x 226€ Cont O.30€ decopanizipaton LENOVO V15 (82TTOOEVFR) 15.6\" LED FHD, Intel Core i3-1215U,8G0,512G0 WiFi Bluetooth; Webcam; Windows II Famille 64 bits 1 4898 j Soit 3X 163€ Dont 030€ decopant zipation 1 ] L 15.6\" LED FHDA IPSOPMS EG209ZMOCBLTGGGASD 512G0, WiFi Bluetooth; Webcam; Windows II Famille 789€ Soit/3x 263€ Dcnt OZO€ decoparticipaticn HP LAPTOP 15S-FQSOZSNF (8R8Q4EA) 15.6\" LED FHD, Intel Core i5-1235U,16G0,SSD 512G0, WiFi Bluetooth; Webcam; Windows II Famille 7478 EN > Soit 3X 249€ Dont 030€ decoparticipajicn SUR LIGNE ACHATS WWWDISTRIPCCOM Vos FAITES'"
   ]
  },
  {
   "cell_type": "code",
   "execution_count": 8,
   "metadata": {},
   "outputs": [
    {
     "name": "stdout",
     "output_type": "stream",
     "text": [
      "PORTABLES LENOVO IDEAZMGOOBWFEZ     .   LED FHD  AMD Ryzen       U   G   SSD    G   WiFi   Bluetooth  Webcam  Windows II Famille      Soit  x       Dont O    dezopattic Dation     Eje            LENOVO IDEAPAD      WQOOAMFR    .   LED Full HD  Intel NSO O   Go    G  WiFi AC Bluetooth  Webcam  Windows IIH        SoitFxl        Dont  .   decoparticipaion     HP LAPTOP   -CPZOOONF       LED FHDUPGOtMDevzen   W OOwsGfasiei Go       Soit  x      Cont O.    decopanizipaton LENOVO V      TTOOEVFR    .   LED FHD  Intel Core i -    U  G     G  WiFi Bluetooth  Webcam  Windows II Famille    bits        j Soit  X      Dont      decopant zipation     L   .   LED FHDA IPSOPMS EG   ZMOCBLTGGGASD    G   WiFi Bluetooth  Webcam  Windows II Famille      Soit  x      Dcnt OZO  decoparticipaticn HP LAPTOP   S-FQSOZSNF   R Q EA    .   LED FHD  Intel Core i -    U   G  SSD    G   WiFi Bluetooth  Webcam  Windows II Famille      EN > Soit  X      Dont      decoparticipajicn SUR LIGNE ACHATS WWWDISTRIPCCOM Vos FAITES\n"
     ]
    }
   ],
   "source": [
    "# Replace special chars by \" \"\n",
    "for i in bad_chars_to_remove_for_NLP_model:\n",
    "    data = data.replace(i, ' ')\n",
    "\n",
    "print(data)"
   ]
  },
  {
   "cell_type": "code",
   "execution_count": null,
   "metadata": {},
   "outputs": [],
   "source": [
    "# Remove multiple spaces"
   ]
  },
  {
   "cell_type": "code",
   "execution_count": null,
   "metadata": {},
   "outputs": [],
   "source": [
    "# Rmove word with only one letter ?"
   ]
  }
 ],
 "metadata": {
  "kernelspec": {
   "display_name": ".env",
   "language": "python",
   "name": "python3"
  },
  "language_info": {
   "codemirror_mode": {
    "name": "ipython",
    "version": 3
   },
   "file_extension": ".py",
   "mimetype": "text/x-python",
   "name": "python",
   "nbconvert_exporter": "python",
   "pygments_lexer": "ipython3",
   "version": "3.11.6"
  }
 },
 "nbformat": 4,
 "nbformat_minor": 2
}
