{
 "cells": [
  {
   "cell_type": "code",
   "execution_count": 1,
   "metadata": {},
   "outputs": [],
   "source": [
    "import spacy\n",
    "import preprocessing\n",
    "import numpy as np"
   ]
  },
  {
   "cell_type": "markdown",
   "metadata": {},
   "source": [
    "# Ce nettoyage ne correspond pas au nettoyage liée à l'import des données en db !"
   ]
  },
  {
   "cell_type": "code",
   "execution_count": 2,
   "metadata": {},
   "outputs": [],
   "source": [
    "# Certain chars seront à garder dans la db pour l'utilisation final (recherche par mots clés) mais suppr pour l'utilisation du modèle !"
   ]
  },
  {
   "cell_type": "code",
   "execution_count": 3,
   "metadata": {},
   "outputs": [],
   "source": [
    "data_test = 'PORTABLES LENOVO IDEAZMGOOBWFEZ 1 15.6\" LED FHD, AMD Ryzen 5 7520U, 8G0, SSD 512G0, WiFi / Bluetooth; Webcam; Windows II Famille 4778 Soit 3x] 1598 Dont O30€ dezopattic Dation 1 1 Eje] 3 3 1 5 1 LENOVO IDEAPAD 3 (81WQOOAMFR) 15.6\" LED Full HD, Intel NSO3O, 8Go,256G0 WiFi AC Bluetooth; Webcam; Windows IIH 1 399€ SoitFxl 1330 1 Dont 0.0€ decoparticipaion 1 1 HP LAPTOP 17-CPZOOONF  173\" LED FHDUPGOtMDevzen 5 W2OOwsGfasiei2Go, 678€ Soit 3x 226€ Cont O.30€ decopanizipaton LENOVO V15 (82TTOOEVFR) 15.6\" LED FHD, Intel Core i3-1215U,8G0,512G0 WiFi Bluetooth; Webcam; Windows II Famille 64 bits 1 4898 j Soit 3X 163€ Dont 030€ decopant zipation 1 ] L 15.6\" LED FHDA IPSOPMS EG209ZMOCBLTGGGASD 512G0, WiFi Bluetooth; Webcam; Windows II Famille 789€ Soit/3x 263€ Dcnt OZO€ decoparticipaticn HP LAPTOP 15S-FQSOZSNF (8R8Q4EA) 15.6\" LED FHD, Intel Core i5-1235U,16G0,SSD 512G0, WiFi Bluetooth; Webcam; Windows II Famille 7478 EN > Soit 3X 249€ Dont 030€ decoparticipajicn SUR LIGNE ACHATS WWWDISTRIPCCOM Vos FAITES'"
   ]
  },
  {
   "cell_type": "markdown",
   "metadata": {},
   "source": [
    "# 1. Cleaning"
   ]
  },
  {
   "cell_type": "code",
   "execution_count": 4,
   "metadata": {},
   "outputs": [
    {
     "name": "stdout",
     "output_type": "stream",
     "text": [
      "portables lenovo ideazmgoobwfez led fhd amd ryzen ssd wifi bluetooth webcam windows ii famille soit dont dezopattic dation eje lenovo ideapad wqooamfr led full hd intel nso go wifi ac bluetooth webcam windows iih soitfxl dont decoparticipaion hp laptop cpzooonf led fhdupgotmdevzen oowsgfasiei go soit cont decopanizipaton lenovo ttooevfr led fhd intel core wifi bluetooth webcam windows ii famille bits soit dont decopant zipation led fhda ipsopms eg zmocbltgggasd wifi bluetooth webcam windows ii famille soit dcnt ozo decoparticipaticn hp laptop fqsozsnf ea led fhd intel core ssd wifi bluetooth webcam windows ii famille en soit dont decoparticipajicn sur ligne achats wwwdistripccom vos faites\n"
     ]
    }
   ],
   "source": [
    "data_test = preprocessing.clean_text(data_test)\n",
    "print(data_test)"
   ]
  },
  {
   "cell_type": "code",
   "execution_count": 5,
   "metadata": {},
   "outputs": [
    {
     "name": "stdout",
     "output_type": "stream",
     "text": [
      "portables lenovo led amd ssd wifi bluetooth webcam windows ii famille soit dont dation eje lenovo led full hd intel go wifi ac bluetooth webcam windows dont hp laptop led go soit cont lenovo led intel core wifi bluetooth webcam windows ii famille bits soit dont led eg wifi bluetooth webcam windows ii famille soit hp laptop ea led intel core ssd wifi bluetooth webcam windows ii famille en soit dont sur ligne achats vos faites\n"
     ]
    }
   ],
   "source": [
    "nlp = spacy.load(\"fr_core_news_lg\")\n",
    "data_test = preprocessing.remove_out_of_vocabulary_words(data_test, nlp)\n",
    "print(data_test)"
   ]
  },
  {
   "cell_type": "code",
   "execution_count": 6,
   "metadata": {},
   "outputs": [
    {
     "name": "stdout",
     "output_type": "stream",
     "text": [
      "portable lenovo led amd ssd wifi bluetooth webcam windows ii famille être dont dation eje lenovo led full hd intel go wifi ac bluetooth webcam windows dont hp laptop led go être cont lenovo led intel core wifi bluetooth webcam windows ii famille bit être dont led eg wifi bluetooth webcam windows ii famille être hp laptop ea led intel core ssd wifi bluetooth webcam windows ii famille en être dont sur ligne achat votre faire\n"
     ]
    }
   ],
   "source": [
    "data_test = preprocessing.lemmatize(data_test, nlp)\n",
    "print(data_test)"
   ]
  },
  {
   "cell_type": "markdown",
   "metadata": {},
   "source": [
    "# 2. Create a vocabulary"
   ]
  },
  {
   "cell_type": "code",
   "execution_count": 7,
   "metadata": {},
   "outputs": [
    {
     "name": "stdout",
     "output_type": "stream",
     "text": [
      "['ac', 'achat', 'amd', 'bit', 'bluetooth', 'cont', 'core', 'dation', 'dont', 'ea', 'eg', 'eje', 'en', 'faire', 'famille', 'full', 'go', 'hd', 'hp', 'ii', 'intel', 'laptop', 'led', 'lenovo', 'ligne', 'portable', 'ssd', 'sur', 'votre', 'webcam', 'wifi', 'windows', 'être']\n"
     ]
    }
   ],
   "source": [
    "vocabulary = np.unique(data_test.split(\" \"))\n",
    "print(list(vocabulary))"
   ]
  },
  {
   "cell_type": "code",
   "execution_count": 8,
   "metadata": {},
   "outputs": [
    {
     "name": "stdout",
     "output_type": "stream",
     "text": [
      "[0, 0, 0, 0, 0, 0, 0, 0, 0, 0, 0, 0, 0, 0, 1, 0, 0, 0, 0, 0, 0, 0, 0, 0, 0, 0, 2, 0, 0, 0, 0, 0, 0]\n"
     ]
    }
   ],
   "source": [
    "# TODO: Try not taking into account the frequency of the words !\n",
    "\n",
    "vector = preprocessing.get_bags_of_words_vector(\"ssd famille ssd\", vocabulary)\n",
    "print(vector)"
   ]
  },
  {
   "cell_type": "code",
   "execution_count": 9,
   "metadata": {},
   "outputs": [
    {
     "data": {
      "text/plain": [
       "' ! Stoped here !!!!\\n        - Create a vocab (use multiple datas)\\n        - Redo the process with all the datas from \"datas\" folder (aim is to make a model that works even if accuracy is terrible)\\n            - Save in db all datas from \"datas\" folder (new table \"catalog\" is to add to db schema)\\n        - Setup the features extraction (BOW (see chatGPT discussion))\\n        - Assign label to data\\n        - Create a simple pytorch nn model\\n        - train it\\n            - val and test set to setup\\n            - Setup metrics\\n'"
      ]
     },
     "execution_count": 9,
     "metadata": {},
     "output_type": "execute_result"
    }
   ],
   "source": [
    "\"\"\" ! Stoped here !!!!\n",
    "        - create train and test sets labeled of course ! (Choose categories)\n",
    "        - WIP Create a vocab (use multiple datas)\n",
    "        - Redo the process with all the datas from \"datas\" folder (aim is to make a model that works even if accuracy is terrible)\n",
    "            - Save in db all datas from \"datas\" folder (new table \"catalog\" is to add to db schema)\n",
    "        - Setup the features extraction (BOW (see chatGPT discussion))\n",
    "        - Assign label to data\n",
    "        - Create a simple pytorch nn model\n",
    "        - train it\n",
    "            - val and test set to setup\n",
    "            - Setup metrics\n",
    "\"\"\""
   ]
  }
 ],
 "metadata": {
  "kernelspec": {
   "display_name": ".env",
   "language": "python",
   "name": "python3"
  },
  "language_info": {
   "codemirror_mode": {
    "name": "ipython",
    "version": 3
   },
   "file_extension": ".py",
   "mimetype": "text/x-python",
   "name": "python",
   "nbconvert_exporter": "python",
   "pygments_lexer": "ipython3",
   "version": "3.11.6"
  }
 },
 "nbformat": 4,
 "nbformat_minor": 2
}
