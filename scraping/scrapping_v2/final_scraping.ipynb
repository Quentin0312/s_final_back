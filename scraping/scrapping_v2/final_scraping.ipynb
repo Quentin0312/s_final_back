{
 "cells": [
  {
   "cell_type": "code",
   "execution_count": 1,
   "metadata": {},
   "outputs": [],
   "source": [
    "import os\n",
    "import sys\n",
    "\n",
    "import re\n",
    "import requests\n",
    "from bs4 import BeautifulSoup\n",
    "\n",
    "import sqlite3\n",
    "import easyocr\n",
    "import torch\n",
    "import spacy\n",
    "\n",
    "import scraping_v2_utils\n",
    "\n",
    "sys.path.append(os.getcwd() + \"/../../db\")\n",
    "sys.path.append(os.getcwd() + \"/../../labos/nlp\")\n",
    "\n",
    "import sql_utils\n",
    "import preprocessing\n",
    "import model_utils"
   ]
  },
  {
   "cell_type": "code",
   "execution_count": 2,
   "metadata": {},
   "outputs": [
    {
     "name": "stdout",
     "output_type": "stream",
     "text": [
      "['']\n",
      "[]\n"
     ]
    }
   ],
   "source": [
    "# Refs of catalog that dates already scrapped\n",
    "catalog_dates_already_scraped = []  # refs\n",
    "with open(\"./catalog_dates.txt\") as catalog_dates_file:\n",
    "    [\n",
    "        catalog_dates_already_scraped.append(line.split(\"|\")[0])\n",
    "        for line in catalog_dates_file.read().split(\"\\n\")\n",
    "    ]\n",
    "print(catalog_dates_already_scraped)\n",
    "\n",
    "# Refs of catalog with images already scrapped\n",
    "catalog_images_already_scrapped = os.listdir(\"../../prod_dataset\")\n",
    "print(catalog_images_already_scrapped)"
   ]
  },
  {
   "cell_type": "code",
   "execution_count": 3,
   "metadata": {},
   "outputs": [],
   "source": [
    "# Get the page\n",
    "\n",
    "url = \"https://lapub.re/\"\n",
    "response = requests.get(url=url, timeout=(5,15))"
   ]
  },
  {
   "cell_type": "code",
   "execution_count": 4,
   "metadata": {},
   "outputs": [],
   "source": [
    "# Get the refs\n",
    "\n",
    "soup = BeautifulSoup(response.text, \"html.parser\")\n",
    "\n",
    "regex_pattern = re.compile(r\"^https:\\/\\/lapub\\.re\\/imgpromo\\/\\d+.*maxi\\.jpg$\")\n",
    "matching_imgs = soup.find_all(\"img\", src=regex_pattern)"
   ]
  },
  {
   "cell_type": "code",
   "execution_count": 5,
   "metadata": {},
   "outputs": [],
   "source": [
    "# Database\n",
    "\n",
    "database_file_name = \"db_prod_final.sqlite\"\n",
    "\n",
    "con = sqlite3.connect(os.getcwd() + f\"/../../db/{database_file_name}\")\n",
    "cur = con.cursor()\n",
    "\n",
    "sql_insert_catalog = sql_utils.get_sql_statement(\"insert_catalog_db_prod.sql\")\n",
    "sql_insert_page = sql_utils.get_sql_statement(\"insert_page_db_prod.sql\") # To modify\n",
    "sql_update_text = sql_utils.get_sql_statement(\"update_text_db_prod.sql\")\n",
    "sql_select_inference = sql_utils.get_sql_statement(\"select_pages_inference_v1.sql\")\n",
    "sql_update_category = sql_utils.get_sql_statement(\"update_category_db_prod.sql\") # To modify"
   ]
  },
  {
   "cell_type": "code",
   "execution_count": 6,
   "metadata": {},
   "outputs": [
    {
     "name": "stdout",
     "output_type": "stream",
     "text": [
      "2024-02-23 09:23:37.242992 => https://lapub.re/prospectus/24769797950543861-1/HTML/files/assets/common/page-html5-substrates/\n",
      "catalog_dict {'24769797950543861-1': ['page0001_1.jpg', 'page0001_2.jpg', 'page0001_3.jpg', 'page0001_4.jpg', 'page0002_1.jpg', 'page0002_2.jpg', 'page0002_3.jpg', 'page0002_4.jpg', 'page0003_1.jpg', 'page0003_2.jpg', 'page0003_3.jpg', 'page0003_4.jpg', 'page0004_1.jpg', 'page0004_2.jpg', 'page0004_3.jpg', 'page0004_4.jpg', 'page0005_1.jpg', 'page0005_2.jpg', 'page0005_3.jpg', 'page0005_4.jpg', 'page0006_1.jpg', 'page0006_2.jpg', 'page0006_3.jpg', 'page0006_4.jpg', 'page0007_1.jpg', 'page0007_2.jpg', 'page0007_3.jpg', 'page0007_4.jpg', 'page0008_1.jpg', 'page0008_2.jpg', 'page0008_3.jpg', 'page0008_4.jpg', 'page0009_1.jpg', 'page0009_2.jpg', 'page0009_3.jpg', 'page0009_4.jpg', 'page0010_1.jpg', 'page0010_2.jpg', 'page0010_3.jpg', 'page0010_4.jpg', 'page0011_1.jpg', 'page0011_2.jpg', 'page0011_3.jpg', 'page0011_4.jpg', 'page0012_1.jpg', 'page0012_2.jpg', 'page0012_3.jpg', 'page0012_4.jpg', 'page0013_1.jpg', 'page0013_2.jpg', 'page0013_3.jpg', 'page0013_4.jpg', 'page0014_1.jpg', 'page0014_2.jpg', 'page0014_3.jpg', 'page0014_4.jpg', 'page0015_1.jpg', 'page0015_2.jpg', 'page0015_3.jpg', 'page0015_4.jpg', 'page0016_1.jpg', 'page0016_2.jpg', 'page0016_3.jpg', 'page0016_4.jpg', 'page0017_1.jpg', 'page0017_2.jpg', 'page0017_3.jpg', 'page0017_4.jpg', 'page0018_1.jpg', 'page0018_2.jpg', 'page0018_3.jpg', 'page0018_4.jpg', 'page0019_1.jpg', 'page0019_2.jpg', 'page0019_3.jpg', 'page0019_4.jpg', 'page0020_1.jpg', 'page0020_2.jpg', 'page0020_3.jpg', 'page0020_4.jpg', 'page0021_1.jpg', 'page0021_2.jpg', 'page0021_3.jpg', 'page0021_4.jpg', 'page0022_1.jpg', 'page0022_2.jpg', 'page0022_3.jpg', 'page0022_4.jpg', 'page0023_1.jpg', 'page0023_2.jpg', 'page0023_3.jpg', 'page0023_4.jpg', 'page0024_1.jpg', 'page0024_2.jpg', 'page0024_3.jpg', 'page0024_4.jpg', 'page0025_1.jpg', 'page0025_2.jpg', 'page0025_3.jpg', 'page0025_4.jpg', 'page0026_1.jpg', 'page0026_2.jpg', 'page0026_3.jpg', 'page0026_4.jpg', 'page0027_1.jpg', 'page0027_2.jpg', 'page0027_3.jpg', 'page0027_4.jpg', 'page0028_1.jpg', 'page0028_2.jpg', 'page0028_3.jpg', 'page0028_4.jpg', 'page0029_1.jpg', 'page0029_2.jpg', 'page0029_3.jpg', 'page0029_4.jpg', 'page0030_1.jpg', 'page0030_2.jpg', 'page0030_3.jpg', 'page0030_4.jpg', 'page0031_1.jpg', 'page0031_2.jpg', 'page0031_3.jpg', 'page0031_4.jpg', 'page0032_1.jpg', 'page0032_2.jpg', 'page0032_3.jpg', 'page0032_4.jpg', 'page0033_1.jpg', 'page0033_2.jpg', 'page0033_3.jpg', 'page0033_4.jpg', 'page0034_1.jpg', 'page0034_2.jpg', 'page0034_3.jpg', 'page0034_4.jpg', 'page0035_1.jpg', 'page0035_2.jpg', 'page0035_3.jpg', 'page0035_4.jpg', 'page0036_1.jpg', 'page0036_2.jpg', 'page0036_3.jpg', 'page0036_4.jpg', 'page0037_1.jpg', 'page0037_2.jpg', 'page0037_3.jpg', 'page0037_4.jpg', 'page0038_1.jpg', 'page0038_2.jpg', 'page0038_3.jpg', 'page0038_4.jpg', 'page0039_1.jpg', 'page0039_2.jpg', 'page0039_3.jpg', 'page0039_4.jpg', 'page0040_1.jpg', 'page0040_2.jpg', 'page0040_3.jpg', 'page0040_4.jpg']}\n",
      "catalog_dict keys dict_keys(['24769797950543861-1'])\n",
      "full_links ['https://lapub.re/prospectus/24769797950543861-1/HTML/files/assets/common/page-html5-substrates/page0001_4.jpg', 'https://lapub.re/prospectus/24769797950543861-1/HTML/files/assets/common/page-html5-substrates/page0002_4.jpg', 'https://lapub.re/prospectus/24769797950543861-1/HTML/files/assets/common/page-html5-substrates/page0003_4.jpg', 'https://lapub.re/prospectus/24769797950543861-1/HTML/files/assets/common/page-html5-substrates/page0004_4.jpg', 'https://lapub.re/prospectus/24769797950543861-1/HTML/files/assets/common/page-html5-substrates/page0005_4.jpg', 'https://lapub.re/prospectus/24769797950543861-1/HTML/files/assets/common/page-html5-substrates/page0006_4.jpg', 'https://lapub.re/prospectus/24769797950543861-1/HTML/files/assets/common/page-html5-substrates/page0007_4.jpg', 'https://lapub.re/prospectus/24769797950543861-1/HTML/files/assets/common/page-html5-substrates/page0008_4.jpg', 'https://lapub.re/prospectus/24769797950543861-1/HTML/files/assets/common/page-html5-substrates/page0009_4.jpg', 'https://lapub.re/prospectus/24769797950543861-1/HTML/files/assets/common/page-html5-substrates/page0010_4.jpg', 'https://lapub.re/prospectus/24769797950543861-1/HTML/files/assets/common/page-html5-substrates/page0011_4.jpg', 'https://lapub.re/prospectus/24769797950543861-1/HTML/files/assets/common/page-html5-substrates/page0012_4.jpg', 'https://lapub.re/prospectus/24769797950543861-1/HTML/files/assets/common/page-html5-substrates/page0013_4.jpg', 'https://lapub.re/prospectus/24769797950543861-1/HTML/files/assets/common/page-html5-substrates/page0014_4.jpg', 'https://lapub.re/prospectus/24769797950543861-1/HTML/files/assets/common/page-html5-substrates/page0015_4.jpg', 'https://lapub.re/prospectus/24769797950543861-1/HTML/files/assets/common/page-html5-substrates/page0016_4.jpg', 'https://lapub.re/prospectus/24769797950543861-1/HTML/files/assets/common/page-html5-substrates/page0017_4.jpg', 'https://lapub.re/prospectus/24769797950543861-1/HTML/files/assets/common/page-html5-substrates/page0018_4.jpg', 'https://lapub.re/prospectus/24769797950543861-1/HTML/files/assets/common/page-html5-substrates/page0019_4.jpg', 'https://lapub.re/prospectus/24769797950543861-1/HTML/files/assets/common/page-html5-substrates/page0020_4.jpg', 'https://lapub.re/prospectus/24769797950543861-1/HTML/files/assets/common/page-html5-substrates/page0021_4.jpg', 'https://lapub.re/prospectus/24769797950543861-1/HTML/files/assets/common/page-html5-substrates/page0022_4.jpg', 'https://lapub.re/prospectus/24769797950543861-1/HTML/files/assets/common/page-html5-substrates/page0023_4.jpg', 'https://lapub.re/prospectus/24769797950543861-1/HTML/files/assets/common/page-html5-substrates/page0024_4.jpg', 'https://lapub.re/prospectus/24769797950543861-1/HTML/files/assets/common/page-html5-substrates/page0025_4.jpg', 'https://lapub.re/prospectus/24769797950543861-1/HTML/files/assets/common/page-html5-substrates/page0026_4.jpg', 'https://lapub.re/prospectus/24769797950543861-1/HTML/files/assets/common/page-html5-substrates/page0027_4.jpg', 'https://lapub.re/prospectus/24769797950543861-1/HTML/files/assets/common/page-html5-substrates/page0028_4.jpg', 'https://lapub.re/prospectus/24769797950543861-1/HTML/files/assets/common/page-html5-substrates/page0029_4.jpg', 'https://lapub.re/prospectus/24769797950543861-1/HTML/files/assets/common/page-html5-substrates/page0030_4.jpg', 'https://lapub.re/prospectus/24769797950543861-1/HTML/files/assets/common/page-html5-substrates/page0031_4.jpg', 'https://lapub.re/prospectus/24769797950543861-1/HTML/files/assets/common/page-html5-substrates/page0032_4.jpg', 'https://lapub.re/prospectus/24769797950543861-1/HTML/files/assets/common/page-html5-substrates/page0033_4.jpg', 'https://lapub.re/prospectus/24769797950543861-1/HTML/files/assets/common/page-html5-substrates/page0034_4.jpg', 'https://lapub.re/prospectus/24769797950543861-1/HTML/files/assets/common/page-html5-substrates/page0035_4.jpg', 'https://lapub.re/prospectus/24769797950543861-1/HTML/files/assets/common/page-html5-substrates/page0036_4.jpg', 'https://lapub.re/prospectus/24769797950543861-1/HTML/files/assets/common/page-html5-substrates/page0037_4.jpg', 'https://lapub.re/prospectus/24769797950543861-1/HTML/files/assets/common/page-html5-substrates/page0038_4.jpg', 'https://lapub.re/prospectus/24769797950543861-1/HTML/files/assets/common/page-html5-substrates/page0039_4.jpg', 'https://lapub.re/prospectus/24769797950543861-1/HTML/files/assets/common/page-html5-substrates/page0040_4.jpg']\n",
      "download image\n",
      "image downloaded\n",
      "download image\n",
      "image downloaded\n",
      "download image\n",
      "image downloaded\n",
      "download image\n",
      "image downloaded\n",
      "download image\n",
      "image downloaded\n",
      "download image\n",
      "image downloaded\n",
      "download image\n",
      "image downloaded\n",
      "download image\n",
      "image downloaded\n",
      "download image\n",
      "image downloaded\n",
      "download image\n",
      "image downloaded\n",
      "download image\n",
      "image downloaded\n",
      "download image\n",
      "image downloaded\n",
      "download image\n",
      "image downloaded\n",
      "download image\n"
     ]
    }
   ],
   "source": [
    "# TODO: Clean and refactor\n",
    "# TODO: Fix conditions => put on top if already \"traité\"\n",
    "# Toute la pipeline se fait d'un coup !\n",
    "for img in matching_imgs[:1]:\n",
    "    catalog_ref = img[\"src\"][26:-9]\n",
    "\n",
    "    # * Check if dates not already scraped\n",
    "    if catalog_ref not in catalog_dates_already_scraped:\n",
    "        # Get dates\n",
    "        (start_date, end_date) = scraping_v2_utils.get_dates(img.parent.get(\"href\"))\n",
    "\n",
    "        # Save in `catalog_dates.txt`\n",
    "        scraping_v2_utils.save_dates(catalog_ref, start_date, end_date)\n",
    "\n",
    "        # Save in db\n",
    "        cur.execute(sql_insert_catalog, (catalog_ref, start_date, end_date))\n",
    "    \n",
    "    con.commit()\n",
    "    \n",
    "\n",
    "    # * Check if images not already downloaded\n",
    "    if catalog_ref not in catalog_images_already_scrapped:\n",
    "        # Get full links\n",
    "        full_links = scraping_v2_utils.get_full_links(catalog_ref)\n",
    "        print(\"full_links\", full_links)\n",
    "        # Download images\n",
    "        scraping_v2_utils.download_all_images(full_links, catalog_ref)\n",
    "        print(\"save in db\")\n",
    "        # Save in db\n",
    "        for image_name in os.listdir(\n",
    "            os.getcwd() + f\"/../../prod_dataset/{catalog_ref}\"\n",
    "        ):\n",
    "            cur.execute(\n",
    "                sql_insert_page,\n",
    "                (\n",
    "                    f\"./prod_dataset/{catalog_ref}/{image_name}\",\n",
    "                    catalog_ref,\n",
    "                ),\n",
    "            )\n",
    "    con.commit()\n",
    "\n",
    "    # * Use OCR model to save raw text content in db\n",
    "    # TODO: If champs text pas déjà renseigné\n",
    "    reader = easyocr.Reader(lang_list=[\"en\"])\n",
    "    for image_path in os.listdir(os.getcwd() + f\"/../../prod_dataset/{catalog_ref}\"):\n",
    "        raw_text = reader.readtext(image_path)\n",
    "\n",
    "        cur.execute(sql_update_text, (raw_text, f\"./prod_dataset/{catalog_ref}/{image_name}\",))\n",
    "    \n",
    "    con.commit()\n",
    "\n",
    "    # * Use NLP model to save insert page categories in db\n",
    "    response = cur.execute(sql_select_inference).fetchall()\n",
    "    \"\"\"\n",
    "    Format: list[(id: int, text: str)]\n",
    "    \"\"\"\n",
    "    vocabulary = preprocessing.get_vocabulary(os.getcwd() + \"/../../labos/nlp/vocab_v1.txt\")\n",
    "    labels = [i for i in range(16)]\n",
    "    model = model_utils.PageClassifier(len(vocabulary), len(labels))\n",
    "    model.load_state_dict(torch.load(os.getcwd() + \"/../../labos/nlp/model_weight_v1.pth\"))\n",
    "\n",
    "    nlp = spacy.load(\"fr_core_news_lg\")\n",
    "\n",
    "    input = preprocessing.pipeline_from_raw_text_to_vectors(raw_text, nlp, vocabulary)\n",
    "    # TODO: Rename output \n",
    "    category = model_utils.predict(model, input)\n",
    "\n",
    "    cur.execute(sql_update_category, (category, response[0]))\n",
    "\n",
    "    con.commit()\n",
    "print(\"saved in db\")\n"
   ]
  },
  {
   "cell_type": "code",
   "execution_count": null,
   "metadata": {},
   "outputs": [],
   "source": [
    "# TODO: Use AI model to add label into db_prod in another file ?!"
   ]
  }
 ],
 "metadata": {
  "kernelspec": {
   "display_name": ".env",
   "language": "python",
   "name": "python3"
  },
  "language_info": {
   "codemirror_mode": {
    "name": "ipython",
    "version": 3
   },
   "file_extension": ".py",
   "mimetype": "text/x-python",
   "name": "python",
   "nbconvert_exporter": "python",
   "pygments_lexer": "ipython3",
   "version": "3.11.6"
  }
 },
 "nbformat": 4,
 "nbformat_minor": 2
}
