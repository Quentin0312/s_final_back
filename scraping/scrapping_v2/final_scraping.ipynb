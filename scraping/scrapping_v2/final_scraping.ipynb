{
 "cells": [
  {
   "cell_type": "code",
   "execution_count": 1,
   "metadata": {},
   "outputs": [],
   "source": [
    "import os\n",
    "import sys\n",
    "\n",
    "import re\n",
    "import requests\n",
    "from bs4 import BeautifulSoup\n",
    "\n",
    "import sqlite3\n",
    "import easyocr\n",
    "import torch\n",
    "import spacy\n",
    "\n",
    "import scraping_v2_utils\n",
    "\n",
    "sys.path.append(os.getcwd() + \"/../../db\")\n",
    "sys.path.append(os.getcwd() + \"/../../labos/nlp\")\n",
    "\n",
    "import sql_utils\n",
    "import preprocessing\n",
    "import model_utils"
   ]
  },
  {
   "cell_type": "code",
   "execution_count": 2,
   "metadata": {},
   "outputs": [
    {
     "name": "stdout",
     "output_type": "stream",
     "text": [
      "['']\n",
      "[]\n"
     ]
    }
   ],
   "source": [
    "# Refs of catalog that dates already scrapped\n",
    "catalog_dates_already_scraped = []  # refs\n",
    "with open(\"./catalog_dates.txt\") as catalog_dates_file:\n",
    "    [\n",
    "        catalog_dates_already_scraped.append(line.split(\"|\")[0])\n",
    "        for line in catalog_dates_file.read().split(\"\\n\")\n",
    "    ]\n",
    "print(catalog_dates_already_scraped)\n",
    "\n",
    "# Refs of catalog with images already scrapped\n",
    "catalog_images_already_scrapped = os.listdir(\"../../prod_dataset\")\n",
    "print(catalog_images_already_scrapped)"
   ]
  },
  {
   "cell_type": "code",
   "execution_count": 3,
   "metadata": {},
   "outputs": [],
   "source": [
    "# Get the page\n",
    "\n",
    "url = \"https://lapub.re/\"\n",
    "response = requests.get(url=url, timeout=(5,15))"
   ]
  },
  {
   "cell_type": "code",
   "execution_count": 4,
   "metadata": {},
   "outputs": [],
   "source": [
    "# Get the refs\n",
    "\n",
    "soup = BeautifulSoup(response.text, \"html.parser\")\n",
    "\n",
    "regex_pattern = re.compile(r\"^https:\\/\\/lapub\\.re\\/imgpromo\\/\\d+.*maxi\\.jpg$\")\n",
    "matching_imgs = soup.find_all(\"img\", src=regex_pattern)"
   ]
  },
  {
   "cell_type": "code",
   "execution_count": 5,
   "metadata": {},
   "outputs": [],
   "source": [
    "# Database\n",
    "\n",
    "con = sqlite3.connect(os.getcwd() + \"/../../db/db_prod.sqlite\")\n",
    "cur = con.cursor()\n",
    "\n",
    "sql_insert_catalog = sql_utils.get_sql_statement(\"insert_catalog_db_prod.sql\")\n",
    "sql_insert_page = sql_utils.get_sql_statement(\"insert_page_db_prod.sql\")\n",
    "sql_update_text = sql_utils.get_sql_statement(\"update_text_db_prod.sql\")\n",
    "sql_select_inference = sql_utils.get_sql_statement(\"select_pages_inference_v1.sql\")\n",
    "sql_update_category = sql_utils.get_sql_statement(\"update_category_db_prod.sql\")"
   ]
  },
  {
   "cell_type": "code",
   "execution_count": 6,
   "metadata": {},
   "outputs": [
    {
     "name": "stdout",
     "output_type": "stream",
     "text": [
      "2024-02-19 16:45:52.348757 => https://lapub.re/prospectus/24769797950543865-1/HTML/files/assets/common/page-html5-substrates/\n",
      "catalog_dict {'24769797950543865-1': ['page0001_1.jpg', 'page0001_2.jpg', 'page0001_3.jpg', 'page0001_4.jpg', 'page0002_1.jpg', 'page0002_2.jpg', 'page0002_3.jpg', 'page0002_4.jpg', 'page0003_1.jpg', 'page0003_2.jpg', 'page0003_3.jpg', 'page0003_4.jpg', 'page0004_1.jpg', 'page0004_2.jpg', 'page0004_3.jpg', 'page0004_4.jpg', 'page0005_1.jpg', 'page0005_2.jpg', 'page0005_3.jpg', 'page0005_4.jpg', 'page0006_1.jpg', 'page0006_2.jpg', 'page0006_3.jpg', 'page0006_4.jpg', 'page0007_1.jpg', 'page0007_2.jpg', 'page0007_3.jpg', 'page0007_4.jpg', 'page0008_1.jpg', 'page0008_2.jpg', 'page0008_3.jpg', 'page0008_4.jpg', 'page0009_1.jpg', 'page0009_2.jpg', 'page0009_3.jpg', 'page0009_4.jpg', 'page0010_1.jpg', 'page0010_2.jpg', 'page0010_3.jpg', 'page0010_4.jpg', 'page0011_1.jpg', 'page0011_2.jpg', 'page0011_3.jpg', 'page0011_4.jpg', 'page0012_1.jpg', 'page0012_2.jpg', 'page0012_3.jpg', 'page0012_4.jpg', 'page0013_1.jpg', 'page0013_2.jpg', 'page0013_3.jpg', 'page0013_4.jpg', 'page0014_1.jpg', 'page0014_2.jpg', 'page0014_3.jpg', 'page0014_4.jpg', 'page0015_1.jpg', 'page0015_2.jpg', 'page0015_3.jpg', 'page0015_4.jpg', 'page0016_1.jpg', 'page0016_2.jpg', 'page0016_3.jpg', 'page0016_4.jpg', 'page0017_1.jpg', 'page0017_2.jpg', 'page0017_3.jpg', 'page0017_4.jpg', 'page0018_1.jpg', 'page0018_2.jpg', 'page0018_3.jpg', 'page0018_4.jpg', 'page0019_1.jpg', 'page0019_2.jpg', 'page0019_3.jpg', 'page0019_4.jpg', 'page0020_1.jpg', 'page0020_2.jpg', 'page0020_3.jpg', 'page0020_4.jpg', 'page0021_1.jpg', 'page0021_2.jpg', 'page0021_3.jpg', 'page0021_4.jpg', 'page0022_1.jpg', 'page0022_2.jpg', 'page0022_3.jpg', 'page0022_4.jpg', 'page0023_1.jpg', 'page0023_2.jpg', 'page0023_3.jpg', 'page0023_4.jpg', 'page0024_1.jpg', 'page0024_2.jpg', 'page0024_3.jpg', 'page0024_4.jpg', 'page0025_1.jpg', 'page0025_2.jpg', 'page0025_3.jpg', 'page0025_4.jpg', 'page0026_1.jpg', 'page0026_2.jpg', 'page0026_3.jpg', 'page0026_4.jpg', 'page0027_1.jpg', 'page0027_2.jpg', 'page0027_3.jpg', 'page0027_4.jpg', 'page0028_1.jpg', 'page0028_2.jpg', 'page0028_3.jpg', 'page0028_4.jpg', 'page0029_1.jpg', 'page0029_2.jpg', 'page0029_3.jpg', 'page0029_4.jpg', 'page0030_1.jpg', 'page0030_2.jpg', 'page0030_3.jpg', 'page0030_4.jpg', 'page0031_1.jpg', 'page0031_2.jpg', 'page0031_3.jpg', 'page0031_4.jpg', 'page0032_1.jpg', 'page0032_2.jpg', 'page0032_3.jpg', 'page0032_4.jpg']}\n",
      "catalog_dict keys dict_keys(['24769797950543865-1'])\n",
      "full_links ['https://lapub.re/prospectus/24769797950543865-1/HTML/files/assets/common/page-html5-substrates/page0001_4.jpg', 'https://lapub.re/prospectus/24769797950543865-1/HTML/files/assets/common/page-html5-substrates/page0002_4.jpg', 'https://lapub.re/prospectus/24769797950543865-1/HTML/files/assets/common/page-html5-substrates/page0003_4.jpg', 'https://lapub.re/prospectus/24769797950543865-1/HTML/files/assets/common/page-html5-substrates/page0004_4.jpg', 'https://lapub.re/prospectus/24769797950543865-1/HTML/files/assets/common/page-html5-substrates/page0005_4.jpg', 'https://lapub.re/prospectus/24769797950543865-1/HTML/files/assets/common/page-html5-substrates/page0006_4.jpg', 'https://lapub.re/prospectus/24769797950543865-1/HTML/files/assets/common/page-html5-substrates/page0007_4.jpg', 'https://lapub.re/prospectus/24769797950543865-1/HTML/files/assets/common/page-html5-substrates/page0008_4.jpg', 'https://lapub.re/prospectus/24769797950543865-1/HTML/files/assets/common/page-html5-substrates/page0009_4.jpg', 'https://lapub.re/prospectus/24769797950543865-1/HTML/files/assets/common/page-html5-substrates/page0010_4.jpg', 'https://lapub.re/prospectus/24769797950543865-1/HTML/files/assets/common/page-html5-substrates/page0011_4.jpg', 'https://lapub.re/prospectus/24769797950543865-1/HTML/files/assets/common/page-html5-substrates/page0012_4.jpg', 'https://lapub.re/prospectus/24769797950543865-1/HTML/files/assets/common/page-html5-substrates/page0013_4.jpg', 'https://lapub.re/prospectus/24769797950543865-1/HTML/files/assets/common/page-html5-substrates/page0014_4.jpg', 'https://lapub.re/prospectus/24769797950543865-1/HTML/files/assets/common/page-html5-substrates/page0015_4.jpg', 'https://lapub.re/prospectus/24769797950543865-1/HTML/files/assets/common/page-html5-substrates/page0016_4.jpg', 'https://lapub.re/prospectus/24769797950543865-1/HTML/files/assets/common/page-html5-substrates/page0017_4.jpg', 'https://lapub.re/prospectus/24769797950543865-1/HTML/files/assets/common/page-html5-substrates/page0018_4.jpg', 'https://lapub.re/prospectus/24769797950543865-1/HTML/files/assets/common/page-html5-substrates/page0019_4.jpg', 'https://lapub.re/prospectus/24769797950543865-1/HTML/files/assets/common/page-html5-substrates/page0020_4.jpg', 'https://lapub.re/prospectus/24769797950543865-1/HTML/files/assets/common/page-html5-substrates/page0021_4.jpg', 'https://lapub.re/prospectus/24769797950543865-1/HTML/files/assets/common/page-html5-substrates/page0022_4.jpg', 'https://lapub.re/prospectus/24769797950543865-1/HTML/files/assets/common/page-html5-substrates/page0023_4.jpg', 'https://lapub.re/prospectus/24769797950543865-1/HTML/files/assets/common/page-html5-substrates/page0024_4.jpg', 'https://lapub.re/prospectus/24769797950543865-1/HTML/files/assets/common/page-html5-substrates/page0025_4.jpg', 'https://lapub.re/prospectus/24769797950543865-1/HTML/files/assets/common/page-html5-substrates/page0026_4.jpg', 'https://lapub.re/prospectus/24769797950543865-1/HTML/files/assets/common/page-html5-substrates/page0027_4.jpg', 'https://lapub.re/prospectus/24769797950543865-1/HTML/files/assets/common/page-html5-substrates/page0028_4.jpg', 'https://lapub.re/prospectus/24769797950543865-1/HTML/files/assets/common/page-html5-substrates/page0029_4.jpg', 'https://lapub.re/prospectus/24769797950543865-1/HTML/files/assets/common/page-html5-substrates/page0030_4.jpg', 'https://lapub.re/prospectus/24769797950543865-1/HTML/files/assets/common/page-html5-substrates/page0031_4.jpg', 'https://lapub.re/prospectus/24769797950543865-1/HTML/files/assets/common/page-html5-substrates/page0032_4.jpg']\n",
      "download image\n",
      "image downloaded\n",
      "download image\n",
      "image downloaded\n",
      "download image\n",
      "image downloaded\n",
      "download image\n",
      "image downloaded\n"
     ]
    },
    {
     "ename": "KeyboardInterrupt",
     "evalue": "",
     "output_type": "error",
     "traceback": [
      "\u001b[0;31m---------------------------------------------------------------------------\u001b[0m",
      "\u001b[0;31mKeyboardInterrupt\u001b[0m                         Traceback (most recent call last)",
      "Cell \u001b[0;32mIn[6], line 27\u001b[0m\n\u001b[1;32m     25\u001b[0m \u001b[38;5;28mprint\u001b[39m(\u001b[38;5;124m\"\u001b[39m\u001b[38;5;124mfull_links\u001b[39m\u001b[38;5;124m\"\u001b[39m, full_links)\n\u001b[1;32m     26\u001b[0m \u001b[38;5;66;03m# Download images\u001b[39;00m\n\u001b[0;32m---> 27\u001b[0m \u001b[43mscraping_v2_utils\u001b[49m\u001b[38;5;241;43m.\u001b[39;49m\u001b[43mdownload_all_images\u001b[49m\u001b[43m(\u001b[49m\u001b[43mfull_links\u001b[49m\u001b[43m,\u001b[49m\u001b[43m \u001b[49m\u001b[43mcatalog_ref\u001b[49m\u001b[43m)\u001b[49m\n\u001b[1;32m     28\u001b[0m \u001b[38;5;28mprint\u001b[39m(\u001b[38;5;124m\"\u001b[39m\u001b[38;5;124msave in db\u001b[39m\u001b[38;5;124m\"\u001b[39m)\n\u001b[1;32m     29\u001b[0m \u001b[38;5;66;03m# Save in db\u001b[39;00m\n",
      "File \u001b[0;32m~/Documents/workspace/briefs/S_FINAL/S_final_back/scraping/scrapping_v2/scraping_v2_utils.py:134\u001b[0m, in \u001b[0;36mdownload_all_images\u001b[0;34m(links, ref)\u001b[0m\n\u001b[1;32m    132\u001b[0m \u001b[38;5;28;01mdef\u001b[39;00m \u001b[38;5;21mdownload_all_images\u001b[39m(links: \u001b[38;5;28mlist\u001b[39m[\u001b[38;5;28mstr\u001b[39m], ref: \u001b[38;5;28mstr\u001b[39m) \u001b[38;5;241m-\u001b[39m\u001b[38;5;241m>\u001b[39m \u001b[38;5;28;01mNone\u001b[39;00m:\n\u001b[1;32m    133\u001b[0m     \u001b[38;5;28;01mfor\u001b[39;00m link \u001b[38;5;129;01min\u001b[39;00m links:\n\u001b[0;32m--> 134\u001b[0m         \u001b[43mdownload_image\u001b[49m\u001b[43m(\u001b[49m\u001b[43mlink\u001b[49m\u001b[43m,\u001b[49m\u001b[43m \u001b[49m\u001b[43mref\u001b[49m\u001b[43m,\u001b[49m\u001b[43m \u001b[49m\u001b[43mlink\u001b[49m\u001b[38;5;241;43m.\u001b[39;49m\u001b[43msplit\u001b[49m\u001b[43m(\u001b[49m\u001b[38;5;124;43m\"\u001b[39;49m\u001b[38;5;124;43m/\u001b[39;49m\u001b[38;5;124;43m\"\u001b[39;49m\u001b[43m)\u001b[49m\u001b[43m[\u001b[49m\u001b[38;5;241;43m-\u001b[39;49m\u001b[38;5;241;43m1\u001b[39;49m\u001b[43m]\u001b[49m\u001b[43m)\u001b[49m\n\u001b[1;32m    135\u001b[0m         force_wait_sleep_time(\u001b[38;5;241m5\u001b[39m)\n",
      "File \u001b[0;32m~/Documents/workspace/briefs/S_FINAL/S_final_back/scraping/scrapping_v2/scraping_v2_utils.py:109\u001b[0m, in \u001b[0;36mdownload_image\u001b[0;34m(url, ref, file_name)\u001b[0m\n\u001b[1;32m    106\u001b[0m         os\u001b[38;5;241m.\u001b[39mmkdir(\u001b[38;5;124mf\u001b[39m\u001b[38;5;124m\"\u001b[39m\u001b[38;5;124m../../prod_dataset/\u001b[39m\u001b[38;5;132;01m{\u001b[39;00mref\u001b[38;5;132;01m}\u001b[39;00m\u001b[38;5;124m\"\u001b[39m)\n\u001b[1;32m    108\u001b[0m     \u001b[38;5;28;01mwith\u001b[39;00m \u001b[38;5;28mopen\u001b[39m(\u001b[38;5;124mf\u001b[39m\u001b[38;5;124m\"\u001b[39m\u001b[38;5;124m../../prod_dataset/\u001b[39m\u001b[38;5;132;01m{\u001b[39;00mref\u001b[38;5;132;01m}\u001b[39;00m\u001b[38;5;124m/\u001b[39m\u001b[38;5;132;01m{\u001b[39;00mfile_name\u001b[38;5;132;01m}\u001b[39;00m\u001b[38;5;124m\"\u001b[39m, \u001b[38;5;124m\"\u001b[39m\u001b[38;5;124mwb\u001b[39m\u001b[38;5;124m\"\u001b[39m) \u001b[38;5;28;01mas\u001b[39;00m image_file:\n\u001b[0;32m--> 109\u001b[0m         \u001b[43mshutil\u001b[49m\u001b[38;5;241;43m.\u001b[39;49m\u001b[43mcopyfileobj\u001b[49m\u001b[43m(\u001b[49m\u001b[43mres\u001b[49m\u001b[38;5;241;43m.\u001b[39;49m\u001b[43mraw\u001b[49m\u001b[43m,\u001b[49m\u001b[43m \u001b[49m\u001b[43mimage_file\u001b[49m\u001b[43m)\u001b[49m\n\u001b[1;32m    110\u001b[0m         image_file\u001b[38;5;241m.\u001b[39mclose()\n\u001b[1;32m    111\u001b[0m \u001b[38;5;28;01melse\u001b[39;00m:\n",
      "File \u001b[0;32m/usr/lib/python3.11/shutil.py:197\u001b[0m, in \u001b[0;36mcopyfileobj\u001b[0;34m(fsrc, fdst, length)\u001b[0m\n\u001b[1;32m    195\u001b[0m fdst_write \u001b[38;5;241m=\u001b[39m fdst\u001b[38;5;241m.\u001b[39mwrite\n\u001b[1;32m    196\u001b[0m \u001b[38;5;28;01mwhile\u001b[39;00m \u001b[38;5;28;01mTrue\u001b[39;00m:\n\u001b[0;32m--> 197\u001b[0m     buf \u001b[38;5;241m=\u001b[39m \u001b[43mfsrc_read\u001b[49m\u001b[43m(\u001b[49m\u001b[43mlength\u001b[49m\u001b[43m)\u001b[49m\n\u001b[1;32m    198\u001b[0m     \u001b[38;5;28;01mif\u001b[39;00m \u001b[38;5;129;01mnot\u001b[39;00m buf:\n\u001b[1;32m    199\u001b[0m         \u001b[38;5;28;01mbreak\u001b[39;00m\n",
      "File \u001b[0;32m~/Documents/workspace/briefs/S_FINAL/S_final_back/.env/lib/python3.11/site-packages/urllib3/response.py:877\u001b[0m, in \u001b[0;36mHTTPResponse.read\u001b[0;34m(self, amt, decode_content, cache_content)\u001b[0m\n\u001b[1;32m    874\u001b[0m     \u001b[38;5;28;01mif\u001b[39;00m \u001b[38;5;28mlen\u001b[39m(\u001b[38;5;28mself\u001b[39m\u001b[38;5;241m.\u001b[39m_decoded_buffer) \u001b[38;5;241m>\u001b[39m\u001b[38;5;241m=\u001b[39m amt:\n\u001b[1;32m    875\u001b[0m         \u001b[38;5;28;01mreturn\u001b[39;00m \u001b[38;5;28mself\u001b[39m\u001b[38;5;241m.\u001b[39m_decoded_buffer\u001b[38;5;241m.\u001b[39mget(amt)\n\u001b[0;32m--> 877\u001b[0m data \u001b[38;5;241m=\u001b[39m \u001b[38;5;28;43mself\u001b[39;49m\u001b[38;5;241;43m.\u001b[39;49m\u001b[43m_raw_read\u001b[49m\u001b[43m(\u001b[49m\u001b[43mamt\u001b[49m\u001b[43m)\u001b[49m\n\u001b[1;32m    879\u001b[0m flush_decoder \u001b[38;5;241m=\u001b[39m amt \u001b[38;5;129;01mis\u001b[39;00m \u001b[38;5;28;01mNone\u001b[39;00m \u001b[38;5;129;01mor\u001b[39;00m (amt \u001b[38;5;241m!=\u001b[39m \u001b[38;5;241m0\u001b[39m \u001b[38;5;129;01mand\u001b[39;00m \u001b[38;5;129;01mnot\u001b[39;00m data)\n\u001b[1;32m    881\u001b[0m \u001b[38;5;28;01mif\u001b[39;00m \u001b[38;5;129;01mnot\u001b[39;00m data \u001b[38;5;129;01mand\u001b[39;00m \u001b[38;5;28mlen\u001b[39m(\u001b[38;5;28mself\u001b[39m\u001b[38;5;241m.\u001b[39m_decoded_buffer) \u001b[38;5;241m==\u001b[39m \u001b[38;5;241m0\u001b[39m:\n",
      "File \u001b[0;32m~/Documents/workspace/briefs/S_FINAL/S_final_back/.env/lib/python3.11/site-packages/urllib3/response.py:812\u001b[0m, in \u001b[0;36mHTTPResponse._raw_read\u001b[0;34m(self, amt)\u001b[0m\n\u001b[1;32m    809\u001b[0m fp_closed \u001b[38;5;241m=\u001b[39m \u001b[38;5;28mgetattr\u001b[39m(\u001b[38;5;28mself\u001b[39m\u001b[38;5;241m.\u001b[39m_fp, \u001b[38;5;124m\"\u001b[39m\u001b[38;5;124mclosed\u001b[39m\u001b[38;5;124m\"\u001b[39m, \u001b[38;5;28;01mFalse\u001b[39;00m)\n\u001b[1;32m    811\u001b[0m \u001b[38;5;28;01mwith\u001b[39;00m \u001b[38;5;28mself\u001b[39m\u001b[38;5;241m.\u001b[39m_error_catcher():\n\u001b[0;32m--> 812\u001b[0m     data \u001b[38;5;241m=\u001b[39m \u001b[38;5;28;43mself\u001b[39;49m\u001b[38;5;241;43m.\u001b[39;49m\u001b[43m_fp_read\u001b[49m\u001b[43m(\u001b[49m\u001b[43mamt\u001b[49m\u001b[43m)\u001b[49m \u001b[38;5;28;01mif\u001b[39;00m \u001b[38;5;129;01mnot\u001b[39;00m fp_closed \u001b[38;5;28;01melse\u001b[39;00m \u001b[38;5;124mb\u001b[39m\u001b[38;5;124m\"\u001b[39m\u001b[38;5;124m\"\u001b[39m\n\u001b[1;32m    813\u001b[0m     \u001b[38;5;28;01mif\u001b[39;00m amt \u001b[38;5;129;01mis\u001b[39;00m \u001b[38;5;129;01mnot\u001b[39;00m \u001b[38;5;28;01mNone\u001b[39;00m \u001b[38;5;129;01mand\u001b[39;00m amt \u001b[38;5;241m!=\u001b[39m \u001b[38;5;241m0\u001b[39m \u001b[38;5;129;01mand\u001b[39;00m \u001b[38;5;129;01mnot\u001b[39;00m data:\n\u001b[1;32m    814\u001b[0m         \u001b[38;5;66;03m# Platform-specific: Buggy versions of Python.\u001b[39;00m\n\u001b[1;32m    815\u001b[0m         \u001b[38;5;66;03m# Close the connection when no data is returned\u001b[39;00m\n\u001b[0;32m   (...)\u001b[0m\n\u001b[1;32m    820\u001b[0m         \u001b[38;5;66;03m# not properly close the connection in all cases. There is\u001b[39;00m\n\u001b[1;32m    821\u001b[0m         \u001b[38;5;66;03m# no harm in redundantly calling close.\u001b[39;00m\n\u001b[1;32m    822\u001b[0m         \u001b[38;5;28mself\u001b[39m\u001b[38;5;241m.\u001b[39m_fp\u001b[38;5;241m.\u001b[39mclose()\n",
      "File \u001b[0;32m~/Documents/workspace/briefs/S_FINAL/S_final_back/.env/lib/python3.11/site-packages/urllib3/response.py:797\u001b[0m, in \u001b[0;36mHTTPResponse._fp_read\u001b[0;34m(self, amt)\u001b[0m\n\u001b[1;32m    794\u001b[0m     \u001b[38;5;28;01mreturn\u001b[39;00m buffer\u001b[38;5;241m.\u001b[39mgetvalue()\n\u001b[1;32m    795\u001b[0m \u001b[38;5;28;01melse\u001b[39;00m:\n\u001b[1;32m    796\u001b[0m     \u001b[38;5;66;03m# StringIO doesn't like amt=None\u001b[39;00m\n\u001b[0;32m--> 797\u001b[0m     \u001b[38;5;28;01mreturn\u001b[39;00m \u001b[38;5;28;43mself\u001b[39;49m\u001b[38;5;241;43m.\u001b[39;49m\u001b[43m_fp\u001b[49m\u001b[38;5;241;43m.\u001b[39;49m\u001b[43mread\u001b[49m\u001b[43m(\u001b[49m\u001b[43mamt\u001b[49m\u001b[43m)\u001b[49m \u001b[38;5;28;01mif\u001b[39;00m amt \u001b[38;5;129;01mis\u001b[39;00m \u001b[38;5;129;01mnot\u001b[39;00m \u001b[38;5;28;01mNone\u001b[39;00m \u001b[38;5;28;01melse\u001b[39;00m \u001b[38;5;28mself\u001b[39m\u001b[38;5;241m.\u001b[39m_fp\u001b[38;5;241m.\u001b[39mread()\n",
      "File \u001b[0;32m/usr/lib/python3.11/http/client.py:466\u001b[0m, in \u001b[0;36mHTTPResponse.read\u001b[0;34m(self, amt)\u001b[0m\n\u001b[1;32m    463\u001b[0m \u001b[38;5;28;01mif\u001b[39;00m \u001b[38;5;28mself\u001b[39m\u001b[38;5;241m.\u001b[39mlength \u001b[38;5;129;01mis\u001b[39;00m \u001b[38;5;129;01mnot\u001b[39;00m \u001b[38;5;28;01mNone\u001b[39;00m \u001b[38;5;129;01mand\u001b[39;00m amt \u001b[38;5;241m>\u001b[39m \u001b[38;5;28mself\u001b[39m\u001b[38;5;241m.\u001b[39mlength:\n\u001b[1;32m    464\u001b[0m     \u001b[38;5;66;03m# clip the read to the \"end of response\"\u001b[39;00m\n\u001b[1;32m    465\u001b[0m     amt \u001b[38;5;241m=\u001b[39m \u001b[38;5;28mself\u001b[39m\u001b[38;5;241m.\u001b[39mlength\n\u001b[0;32m--> 466\u001b[0m s \u001b[38;5;241m=\u001b[39m \u001b[38;5;28mself\u001b[39m\u001b[38;5;241m.\u001b[39mfp\u001b[38;5;241m.\u001b[39mread(amt)\n\u001b[1;32m    467\u001b[0m \u001b[38;5;28;01mif\u001b[39;00m \u001b[38;5;129;01mnot\u001b[39;00m s \u001b[38;5;129;01mand\u001b[39;00m amt:\n\u001b[1;32m    468\u001b[0m     \u001b[38;5;66;03m# Ideally, we would raise IncompleteRead if the content-length\u001b[39;00m\n\u001b[1;32m    469\u001b[0m     \u001b[38;5;66;03m# wasn't satisfied, but it might break compatibility.\u001b[39;00m\n\u001b[1;32m    470\u001b[0m     \u001b[38;5;28mself\u001b[39m\u001b[38;5;241m.\u001b[39m_close_conn()\n",
      "File \u001b[0;32m/usr/lib/python3.11/socket.py:706\u001b[0m, in \u001b[0;36mSocketIO.readinto\u001b[0;34m(self, b)\u001b[0m\n\u001b[1;32m    704\u001b[0m \u001b[38;5;28;01mwhile\u001b[39;00m \u001b[38;5;28;01mTrue\u001b[39;00m:\n\u001b[1;32m    705\u001b[0m     \u001b[38;5;28;01mtry\u001b[39;00m:\n\u001b[0;32m--> 706\u001b[0m         \u001b[38;5;28;01mreturn\u001b[39;00m \u001b[38;5;28;43mself\u001b[39;49m\u001b[38;5;241;43m.\u001b[39;49m\u001b[43m_sock\u001b[49m\u001b[38;5;241;43m.\u001b[39;49m\u001b[43mrecv_into\u001b[49m\u001b[43m(\u001b[49m\u001b[43mb\u001b[49m\u001b[43m)\u001b[49m\n\u001b[1;32m    707\u001b[0m     \u001b[38;5;28;01mexcept\u001b[39;00m timeout:\n\u001b[1;32m    708\u001b[0m         \u001b[38;5;28mself\u001b[39m\u001b[38;5;241m.\u001b[39m_timeout_occurred \u001b[38;5;241m=\u001b[39m \u001b[38;5;28;01mTrue\u001b[39;00m\n",
      "File \u001b[0;32m/usr/lib/python3.11/ssl.py:1311\u001b[0m, in \u001b[0;36mSSLSocket.recv_into\u001b[0;34m(self, buffer, nbytes, flags)\u001b[0m\n\u001b[1;32m   1307\u001b[0m     \u001b[38;5;28;01mif\u001b[39;00m flags \u001b[38;5;241m!=\u001b[39m \u001b[38;5;241m0\u001b[39m:\n\u001b[1;32m   1308\u001b[0m         \u001b[38;5;28;01mraise\u001b[39;00m \u001b[38;5;167;01mValueError\u001b[39;00m(\n\u001b[1;32m   1309\u001b[0m           \u001b[38;5;124m\"\u001b[39m\u001b[38;5;124mnon-zero flags not allowed in calls to recv_into() on \u001b[39m\u001b[38;5;132;01m%s\u001b[39;00m\u001b[38;5;124m\"\u001b[39m \u001b[38;5;241m%\u001b[39m\n\u001b[1;32m   1310\u001b[0m           \u001b[38;5;28mself\u001b[39m\u001b[38;5;241m.\u001b[39m\u001b[38;5;18m__class__\u001b[39m)\n\u001b[0;32m-> 1311\u001b[0m     \u001b[38;5;28;01mreturn\u001b[39;00m \u001b[38;5;28;43mself\u001b[39;49m\u001b[38;5;241;43m.\u001b[39;49m\u001b[43mread\u001b[49m\u001b[43m(\u001b[49m\u001b[43mnbytes\u001b[49m\u001b[43m,\u001b[49m\u001b[43m \u001b[49m\u001b[43mbuffer\u001b[49m\u001b[43m)\u001b[49m\n\u001b[1;32m   1312\u001b[0m \u001b[38;5;28;01melse\u001b[39;00m:\n\u001b[1;32m   1313\u001b[0m     \u001b[38;5;28;01mreturn\u001b[39;00m \u001b[38;5;28msuper\u001b[39m()\u001b[38;5;241m.\u001b[39mrecv_into(buffer, nbytes, flags)\n",
      "File \u001b[0;32m/usr/lib/python3.11/ssl.py:1167\u001b[0m, in \u001b[0;36mSSLSocket.read\u001b[0;34m(self, len, buffer)\u001b[0m\n\u001b[1;32m   1165\u001b[0m \u001b[38;5;28;01mtry\u001b[39;00m:\n\u001b[1;32m   1166\u001b[0m     \u001b[38;5;28;01mif\u001b[39;00m buffer \u001b[38;5;129;01mis\u001b[39;00m \u001b[38;5;129;01mnot\u001b[39;00m \u001b[38;5;28;01mNone\u001b[39;00m:\n\u001b[0;32m-> 1167\u001b[0m         \u001b[38;5;28;01mreturn\u001b[39;00m \u001b[38;5;28;43mself\u001b[39;49m\u001b[38;5;241;43m.\u001b[39;49m\u001b[43m_sslobj\u001b[49m\u001b[38;5;241;43m.\u001b[39;49m\u001b[43mread\u001b[49m\u001b[43m(\u001b[49m\u001b[38;5;28;43mlen\u001b[39;49m\u001b[43m,\u001b[49m\u001b[43m \u001b[49m\u001b[43mbuffer\u001b[49m\u001b[43m)\u001b[49m\n\u001b[1;32m   1168\u001b[0m     \u001b[38;5;28;01melse\u001b[39;00m:\n\u001b[1;32m   1169\u001b[0m         \u001b[38;5;28;01mreturn\u001b[39;00m \u001b[38;5;28mself\u001b[39m\u001b[38;5;241m.\u001b[39m_sslobj\u001b[38;5;241m.\u001b[39mread(\u001b[38;5;28mlen\u001b[39m)\n",
      "\u001b[0;31mKeyboardInterrupt\u001b[0m: "
     ]
    }
   ],
   "source": [
    "# TODO: Clean and refactor\n",
    "# TODO: Fix conditions => put on top if already \"traité\"\n",
    "# Toute la pipeline se fait d'un coup !\n",
    "for img in matching_imgs[:1]:\n",
    "    catalog_ref = img[\"src\"][26:-9]\n",
    "\n",
    "    # * Check if dates not already scraped\n",
    "    if catalog_ref not in catalog_dates_already_scraped:\n",
    "        # Get dates\n",
    "        (start_date, end_date) = scraping_v2_utils.get_dates(img.parent.get(\"href\"))\n",
    "\n",
    "        # Save in `catalog_dates.txt`\n",
    "        scraping_v2_utils.save_dates(catalog_ref, start_date, end_date)\n",
    "\n",
    "        # Save in db\n",
    "        cur.execute(sql_insert_catalog, (catalog_ref, start_date, end_date))\n",
    "    \n",
    "    con.commit()\n",
    "    \n",
    "\n",
    "    # * Check if images not already downloaded\n",
    "    if catalog_ref not in catalog_images_already_scrapped:\n",
    "        # Get full links\n",
    "        full_links = scraping_v2_utils.get_full_links(catalog_ref)\n",
    "        print(\"full_links\", full_links)\n",
    "        # Download images\n",
    "        scraping_v2_utils.download_all_images(full_links, catalog_ref)\n",
    "        print(\"save in db\")\n",
    "        # Save in db\n",
    "        for image_name in os.listdir(\n",
    "            os.getcwd() + f\"/../../prod_dataset/{catalog_ref}\"\n",
    "        ):\n",
    "            cur.execute(\n",
    "                sql_insert_page,\n",
    "                (\n",
    "                    f\"./prod_dataset/{catalog_ref}/{image_name}\",\n",
    "                    catalog_ref,\n",
    "                ),\n",
    "            )\n",
    "    con.commit()\n",
    "\n",
    "    # * Use OCR model to save raw text content in db\n",
    "    # TODO: If champs text pas déjà renseigné\n",
    "    reader = easyocr.Reader(lang_list=[\"en\"])\n",
    "    for image_path in os.listdir(os.getcwd() + f\"/../../prod_dataset/{catalog_ref}\"):\n",
    "        raw_text = reader.readtext(image_path)\n",
    "\n",
    "        cur.execute(sql_update_text, (raw_text, f\"./prod_dataset/{catalog_ref}/{image_name}\",))\n",
    "    \n",
    "    con.commit()\n",
    "\n",
    "    # * Use NLP model to save insert page categories in db\n",
    "    response = cur.execute(sql_select_inference).fetchall()\n",
    "    \"\"\"\n",
    "    Format: list[(id: int, text: str)]\n",
    "    \"\"\"\n",
    "    vocabulary = preprocessing.get_vocabulary(os.getcwd() + \"/../../labos/nlp/vocab_v1.txt\")\n",
    "    labels = [i for i in range(16)]\n",
    "    model = model_utils.PageClassifier(len(vocabulary), len(labels))\n",
    "    model.load_state_dict(torch.load(os.getcwd() + \"/../../labos/nlp/model_weight_v1.pth\"))\n",
    "\n",
    "    nlp = spacy.load(\"fr_core_news_lg\")\n",
    "\n",
    "    input = preprocessing.pipeline_from_raw_text_to_vectors(raw_text, nlp, vocabulary)\n",
    "    # TODO: Rename output \n",
    "    category = model_utils.predict(model, input)\n",
    "\n",
    "    cur.execute(sql_update_category, (category, response[0]))\n",
    "\n",
    "    con.commit()\n",
    "print(\"saved in db\")\n"
   ]
  },
  {
   "cell_type": "code",
   "execution_count": null,
   "metadata": {},
   "outputs": [],
   "source": [
    "# TODO: Use AI model to add label into db_prod in another file ?!"
   ]
  }
 ],
 "metadata": {
  "kernelspec": {
   "display_name": ".env",
   "language": "python",
   "name": "python3"
  },
  "language_info": {
   "codemirror_mode": {
    "name": "ipython",
    "version": 3
   },
   "file_extension": ".py",
   "mimetype": "text/x-python",
   "name": "python",
   "nbconvert_exporter": "python",
   "pygments_lexer": "ipython3",
   "version": "3.11.6"
  }
 },
 "nbformat": 4,
 "nbformat_minor": 2
}
