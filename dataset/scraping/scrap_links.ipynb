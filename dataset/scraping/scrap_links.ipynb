{
 "cells": [
  {
   "cell_type": "code",
   "execution_count": 1,
   "metadata": {},
   "outputs": [],
   "source": [
    "import datetime\n",
    "import time\n",
    "import re\n",
    "import requests\n",
    "from bs4 import BeautifulSoup\n",
    "import pandas as pd"
   ]
  },
  {
   "cell_type": "markdown",
   "metadata": {},
   "source": [
    "# TODO: Mettre en place un timeout pour éviter d'être détecté !!!!!!!!!!!!!!!!!!!!"
   ]
  },
  {
   "cell_type": "code",
   "execution_count": null,
   "metadata": {},
   "outputs": [],
   "source": [
    "# Refactor\n",
    "def get_refs(url: str, regex) -> list[str]:\n",
    "    response = requests.get(url)\n",
    "    soup = BeautifulSoup(response.text, \"html.parser\")\n",
    "\n",
    "    pattern = re.compile(regex)\n",
    "\n",
    "    specific_links = soup.find_all(\"a\", href=pattern)\n",
    "\n",
    "    refs = []\n",
    "    for link in specific_links:\n",
    "        refs.append(link.text)\n",
    "\n",
    "    return refs"
   ]
  },
  {
   "cell_type": "code",
   "execution_count": null,
   "metadata": {},
   "outputs": [],
   "source": [
    "# todo Create different files => get_new_links.py, get_all_links.py, download.py\n",
    "# rename prospectus to catalogs"
   ]
  },
  {
   "cell_type": "code",
   "execution_count": 8,
   "metadata": {},
   "outputs": [],
   "source": [
    "def open_refs_file() -> list[str]:\n",
    "    with open(\"./refs_filtered_bis.txt\", \"r\") as refs_file:\n",
    "        refs = refs_file.read().split(\"\\n\")\n",
    "        return refs[:-1]\n",
    "\n",
    "refs = open_refs_file()"
   ]
  },
  {
   "cell_type": "code",
   "execution_count": null,
   "metadata": {},
   "outputs": [],
   "source": [
    "# TODO: Make a function to check for new refs !\n",
    "#                   (comparer avec les dossier présent (endroit où save))"
   ]
  },
  {
   "cell_type": "code",
   "execution_count": 4,
   "metadata": {},
   "outputs": [],
   "source": [
    "# TODO: Filter dead links !"
   ]
  },
  {
   "cell_type": "code",
   "execution_count": 30,
   "metadata": {},
   "outputs": [
    {
     "name": "stdout",
     "output_type": "stream",
     "text": [
      "link https://lapub.re/prospectus/24769797950543598-6//HTML/files/assets/common/page-html5-substrates/\n",
      "link https://lapub.re/prospectus/24769797950543598-5//HTML/files/assets/common/page-html5-substrates/\n",
      "{'24769797950543598-6/': ['page0001_1.jpg', 'page0001_2.jpg', 'page0001_3.jpg', 'page0001_4.jpg', 'page0001_5.jpg', 'page0002_1.jpg', 'page0002_2.jpg', 'page0002_3.jpg', 'page0002_4.jpg', 'page0002_5.jpg', 'page0003_1.jpg', 'page0003_2.jpg', 'page0003_3.jpg', 'page0003_4.jpg', 'page0003_5.jpg', 'page0004_1.jpg', 'page0004_2.jpg', 'page0004_3.jpg', 'page0004_4.jpg', 'page0004_5.jpg', 'page0005_1.jpg', 'page0005_2.jpg', 'page0005_3.jpg', 'page0005_4.jpg', 'page0005_5.jpg', 'page0006_1.jpg', 'page0006_2.jpg', 'page0006_3.jpg', 'page0006_4.jpg', 'page0006_5.jpg', 'page0007_1.jpg', 'page0007_2.jpg', 'page0007_3.jpg', 'page0007_4.jpg', 'page0007_5.jpg', 'page0008_1.jpg', 'page0008_2.jpg', 'page0008_3.jpg', 'page0008_4.jpg', 'page0008_5.jpg', 'page0009_1.jpg', 'page0009_2.jpg', 'page0009_3.jpg', 'page0009_4.jpg', 'page0009_5.jpg', 'page0010_1.jpg', 'page0010_2.jpg', 'page0010_3.jpg', 'page0010_4.jpg', 'page0010_5.jpg', 'page0011_1.jpg', 'page0011_2.jpg', 'page0011_3.jpg', 'page0011_4.jpg', 'page0011_5.jpg', 'page0012_1.jpg', 'page0012_2.jpg', 'page0012_3.jpg', 'page0012_4.jpg', 'page0012_5.jpg', 'page0013_1.jpg', 'page0013_2.jpg', 'page0013_3.jpg', 'page0013_4.jpg', 'page0013_5.jpg', 'page0014_1.jpg', 'page0014_2.jpg', 'page0014_3.jpg', 'page0014_4.jpg', 'page0014_5.jpg', 'page0015_1.jpg', 'page0015_2.jpg', 'page0015_3.jpg', 'page0015_4.jpg', 'page0015_5.jpg', 'page0016_1.jpg', 'page0016_2.jpg', 'page0016_3.jpg', 'page0016_4.jpg', 'page0016_5.jpg', 'page0017_1.jpg', 'page0017_2.jpg', 'page0017_3.jpg', 'page0017_4.jpg', 'page0017_5.jpg', 'page0018_1.jpg', 'page0018_2.jpg', 'page0018_3.jpg', 'page0018_4.jpg', 'page0018_5.jpg', 'page0019_1.jpg', 'page0019_2.jpg', 'page0019_3.jpg', 'page0019_4.jpg', 'page0019_5.jpg', 'page0020_1.jpg', 'page0020_2.jpg', 'page0020_3.jpg', 'page0020_4.jpg', 'page0020_5.jpg', 'page0021_1.jpg', 'page0021_2.jpg', 'page0021_3.jpg', 'page0021_4.jpg', 'page0021_5.jpg', 'page0022_1.jpg', 'page0022_2.jpg', 'page0022_3.jpg', 'page0022_4.jpg', 'page0022_5.jpg', 'page0023_1.jpg', 'page0023_2.jpg', 'page0023_3.jpg', 'page0023_4.jpg', 'page0023_5.jpg', 'page0024_1.jpg', 'page0024_2.jpg', 'page0024_3.jpg', 'page0024_4.jpg', 'page0024_5.jpg', 'page0025_1.jpg', 'page0025_2.jpg', 'page0025_3.jpg', 'page0025_4.jpg', 'page0025_5.jpg', 'page0026_1.jpg', 'page0026_2.jpg', 'page0026_3.jpg', 'page0026_4.jpg', 'page0026_5.jpg', 'page0027_1.jpg', 'page0027_2.jpg', 'page0027_3.jpg', 'page0027_4.jpg', 'page0027_5.jpg', 'page0028_1.jpg', 'page0028_2.jpg', 'page0028_3.jpg', 'page0028_4.jpg', 'page0028_5.jpg', 'page0029_1.jpg', 'page0029_2.jpg', 'page0029_3.jpg', 'page0029_4.jpg', 'page0029_5.jpg', 'page0030_1.jpg', 'page0030_2.jpg', 'page0030_3.jpg', 'page0030_4.jpg', 'page0030_5.jpg', 'page0031_1.jpg', 'page0031_2.jpg', 'page0031_3.jpg', 'page0031_4.jpg', 'page0031_5.jpg', 'page0032_1.jpg', 'page0032_2.jpg', 'page0032_3.jpg', 'page0032_4.jpg', 'page0032_5.jpg', 'page0033_1.jpg', 'page0033_2.jpg', 'page0033_3.jpg', 'page0033_4.jpg', 'page0033_5.jpg', 'page0034_1.jpg', 'page0034_2.jpg', 'page0034_3.jpg', 'page0034_4.jpg', 'page0034_5.jpg', 'page0035_1.jpg', 'page0035_2.jpg', 'page0035_3.jpg', 'page0035_4.jpg', 'page0035_5.jpg', 'page0036_1.jpg', 'page0036_2.jpg', 'page0036_3.jpg', 'page0036_4.jpg', 'page0036_5.jpg'], '24769797950543598-5/': ['page0001_1.jpg', 'page0001_2.jpg', 'page0001_3.jpg', 'page0001_4.jpg', 'page0001_5.jpg', 'page0002_1.jpg', 'page0002_2.jpg', 'page0002_3.jpg', 'page0002_4.jpg', 'page0002_5.jpg', 'page0003_1.jpg', 'page0003_2.jpg', 'page0003_3.jpg', 'page0003_4.jpg', 'page0003_5.jpg', 'page0004_1.jpg', 'page0004_2.jpg', 'page0004_3.jpg', 'page0004_4.jpg', 'page0004_5.jpg', 'page0005_1.jpg', 'page0005_2.jpg', 'page0005_3.jpg', 'page0005_4.jpg', 'page0005_5.jpg', 'page0006_1.jpg', 'page0006_2.jpg', 'page0006_3.jpg', 'page0006_4.jpg', 'page0006_5.jpg', 'page0007_1.jpg', 'page0007_2.jpg', 'page0007_3.jpg', 'page0007_4.jpg', 'page0007_5.jpg', 'page0008_1.jpg', 'page0008_2.jpg', 'page0008_3.jpg', 'page0008_4.jpg', 'page0008_5.jpg', 'page0009_1.jpg', 'page0009_2.jpg', 'page0009_3.jpg', 'page0009_4.jpg', 'page0009_5.jpg', 'page0010_1.jpg', 'page0010_2.jpg', 'page0010_3.jpg', 'page0010_4.jpg', 'page0010_5.jpg', 'page0011_1.jpg', 'page0011_2.jpg', 'page0011_3.jpg', 'page0011_4.jpg', 'page0011_5.jpg', 'page0012_1.jpg', 'page0012_2.jpg', 'page0012_3.jpg', 'page0012_4.jpg', 'page0012_5.jpg', 'page0013_1.jpg', 'page0013_2.jpg', 'page0013_3.jpg', 'page0013_4.jpg', 'page0013_5.jpg', 'page0014_1.jpg', 'page0014_2.jpg', 'page0014_3.jpg', 'page0014_4.jpg', 'page0014_5.jpg', 'page0015_1.jpg', 'page0015_2.jpg', 'page0015_3.jpg', 'page0015_4.jpg', 'page0015_5.jpg', 'page0016_1.jpg', 'page0016_2.jpg', 'page0016_3.jpg', 'page0016_4.jpg', 'page0016_5.jpg', 'page0017_1.jpg', 'page0017_2.jpg', 'page0017_3.jpg', 'page0017_4.jpg', 'page0017_5.jpg', 'page0018_1.jpg', 'page0018_2.jpg', 'page0018_3.jpg', 'page0018_4.jpg', 'page0018_5.jpg', 'page0019_1.jpg', 'page0019_2.jpg', 'page0019_3.jpg', 'page0019_4.jpg', 'page0019_5.jpg', 'page0020_1.jpg', 'page0020_2.jpg', 'page0020_3.jpg', 'page0020_4.jpg', 'page0020_5.jpg', 'page0021_1.jpg', 'page0021_2.jpg', 'page0021_3.jpg', 'page0021_4.jpg', 'page0021_5.jpg', 'page0022_1.jpg', 'page0022_2.jpg', 'page0022_3.jpg', 'page0022_4.jpg', 'page0022_5.jpg', 'page0023_1.jpg', 'page0023_2.jpg', 'page0023_3.jpg', 'page0023_4.jpg', 'page0023_5.jpg', 'page0024_1.jpg', 'page0024_2.jpg', 'page0024_3.jpg', 'page0024_4.jpg', 'page0024_5.jpg', 'page0025_1.jpg', 'page0025_2.jpg', 'page0025_3.jpg', 'page0025_4.jpg', 'page0025_5.jpg', 'page0026_1.jpg', 'page0026_2.jpg', 'page0026_3.jpg', 'page0026_4.jpg', 'page0026_5.jpg', 'page0027_1.jpg', 'page0027_2.jpg', 'page0027_3.jpg', 'page0027_4.jpg', 'page0027_5.jpg', 'page0028_1.jpg', 'page0028_2.jpg', 'page0028_3.jpg', 'page0028_4.jpg', 'page0028_5.jpg', 'page0029_1.jpg', 'page0029_2.jpg', 'page0029_3.jpg', 'page0029_4.jpg', 'page0029_5.jpg', 'page0030_1.jpg', 'page0030_2.jpg', 'page0030_3.jpg', 'page0030_4.jpg', 'page0030_5.jpg', 'page0031_1.jpg', 'page0031_2.jpg', 'page0031_3.jpg', 'page0031_4.jpg', 'page0031_5.jpg', 'page0032_1.jpg', 'page0032_2.jpg', 'page0032_3.jpg', 'page0032_4.jpg', 'page0032_5.jpg', 'page0033_1.jpg', 'page0033_2.jpg', 'page0033_3.jpg', 'page0033_4.jpg', 'page0033_5.jpg', 'page0034_1.jpg', 'page0034_2.jpg', 'page0034_3.jpg', 'page0034_4.jpg', 'page0034_5.jpg', 'page0035_1.jpg', 'page0035_2.jpg', 'page0035_3.jpg', 'page0035_4.jpg', 'page0035_5.jpg', 'page0036_1.jpg', 'page0036_2.jpg', 'page0036_3.jpg', 'page0036_4.jpg', 'page0036_5.jpg']}\n"
     ]
    }
   ],
   "source": [
    "def get_all_files_names(refs:list[str], timeout: int) -> dict:\n",
    "    prospectus = {}\n",
    "    reference_time = None\n",
    "    # Get all file names\n",
    "    for ref in refs:\n",
    "        # Be sure to do 1 request each 30 sec\n",
    "        request_time = datetime.datetime.now()\n",
    "        if reference_time is None:\n",
    "            reference_time = request_time\n",
    "        elif request_time.timestamp() < reference_time.timestamp() + 30:\n",
    "            time.sleep(reference_time.timestamp() + 30 - request_time.timestamp())\n",
    "\n",
    "        image_file_names = get_refs(url=f\"https://lapub.re/prospectus/{ref}/HTML/files/assets/common/page-html5-substrates/\", regex=r'page\\d{4}_\\d\\.jpg')\n",
    "        print(\"link\", f\"https://lapub.re/prospectus/{ref}/HTML/files/assets/common/page-html5-substrates/\")\n",
    "\n",
    "        prospectus[ref] = image_file_names\n",
    "    \n",
    "    return prospectus\n",
    "            \n",
    "prospectus = get_all_files_names(refs[:2], 0)\n",
    "print(prospectus)"
   ]
  },
  {
   "cell_type": "code",
   "execution_count": null,
   "metadata": {},
   "outputs": [],
   "source": [
    "# Filter with higher quality images\n",
    "for ref in list(prospectus.keys()):\n",
    "    for file_name in prospectus[ref]:\n",
    "        print(\"file_name\", file_name)\n",
    "    # print(prospectus)"
   ]
  },
  {
   "cell_type": "code",
   "execution_count": null,
   "metadata": {},
   "outputs": [],
   "source": [
    "# def get_full_links():"
   ]
  },
  {
   "cell_type": "code",
   "execution_count": 6,
   "metadata": {},
   "outputs": [],
   "source": [
    "# ! Pour chaque prospectus garder unique les images high quality"
   ]
  }
 ],
 "metadata": {
  "kernelspec": {
   "display_name": ".env",
   "language": "python",
   "name": "python3"
  },
  "language_info": {
   "codemirror_mode": {
    "name": "ipython",
    "version": 3
   },
   "file_extension": ".py",
   "mimetype": "text/x-python",
   "name": "python",
   "nbconvert_exporter": "python",
   "pygments_lexer": "ipython3",
   "version": "3.11.6"
  }
 },
 "nbformat": 4,
 "nbformat_minor": 2
}
