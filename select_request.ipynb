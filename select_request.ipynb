{
 "cells": [
  {
   "cell_type": "code",
   "execution_count": 1,
   "metadata": {},
   "outputs": [],
   "source": [
    "import sqlite3\n",
    "\n",
    "con = sqlite3.connect(\"./db/db_v0.sqlite\")\n",
    "cur = con.cursor()"
   ]
  },
  {
   "cell_type": "code",
   "execution_count": 3,
   "metadata": {},
   "outputs": [
    {
     "name": "stdout",
     "output_type": "stream",
     "text": [
      " ACER ASPIRE 5 A515-45-R6TZ AMD Ryzen 7 5700U, 8G0, SSD 512G0,15.6\" LED Full HD, WiFi Bluetooth; Webcam; Windows II Famille 64 bits HP LAPTOP 15s-FQSO22NF (70899EA) 15.6\" LED FHD IPS, Intel Core i7-1255U,16G0, 789€ SSD 512G0, WiFi Bluetooth; Webcam; Soit /3x 263€ Windows II Famille Vont 0.30€ d ecopattic pation 897e Soit 3X 299€ Dont OZ0€ decopartizipajicn SAMSUNG GALAXY BOOK3 (NPZSOXFG-KBIFR) 15.6\" LED Full HD, Intel Core i7-1355U, 16G0, SSD 512G0, WiFi 6E Bluetooth; Webcam; Windows II Famille 12480 > Soit/3x 416t Dont 0.42€ deccpartic pation ACER NITRO 5 AN515-45-R547 15.6\" LED FHD IPS 144Hz, AMD Ryzen 7-5800H,16G0, SSD ITo, NVIDIA GeForce RTX 3060 660, WiFi AX Bluetooth; Webcam; Windows II Famille 1269€ Soit/3x 4230 Dont 0.42€ deccpartic paticn acer NITRO acer NITRO ACER NITRO 5 AN51S-45-RZZU 15.6\" LED Full HD 144Hz, AMD Ryzen 5 5600H, 16G0, SSD ITo, NVIDIA GeForce RTX 3070, WiFi AX / Bluetooth; Webcam; Windows Famille 64 bits 1389€ ACER NITRO 5 AN517-55-54EK 17.3\" FHD IPS MATE 144Hz Intel Core i5-12450H,16G0, Soit 3x 4630 SSD 512G0,NVIDIA GeForce RTX 4060 8G0, Dcnt 042€ decopanicipation WiFi 6E Bluetooth; Webcam; Windows II Famille 14498 Soit/3x 483€ Dont 0.42€ deccpartic paticn EN 3 SUR LIGNE WWWDISTRIPCCOM ACHATS vos FAITES\n"
     ]
    }
   ],
   "source": [
    "key_word = \"%RTX%\"\n",
    "sql = \"\"\n",
    "with open(\"./db/sql/select_pages.sql\") as sql_select:\n",
    "    sql = sql_select.read()\n",
    "    sql_select.close()\n",
    "\n",
    "res = cur.execute(sql, (key_word,))\n",
    "response = res.fetchall()\n",
    "print(response[0][0])\n",
    "\n",
    "with open(\"imageToSave.jpg\", \"wb\") as image:\n",
    "    image.write(response[0][1])\n",
    "    image.close()"
   ]
  }
 ],
 "metadata": {
  "kernelspec": {
   "display_name": ".env",
   "language": "python",
   "name": "python3"
  },
  "language_info": {
   "codemirror_mode": {
    "name": "ipython",
    "version": 3
   },
   "file_extension": ".py",
   "mimetype": "text/x-python",
   "name": "python",
   "nbconvert_exporter": "python",
   "pygments_lexer": "ipython3",
   "version": "3.11.6"
  }
 },
 "nbformat": 4,
 "nbformat_minor": 2
}
