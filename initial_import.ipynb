{
 "cells": [
  {
   "cell_type": "markdown",
   "metadata": {},
   "source": [
    "# TODO : Delete file and create a python script instead !!"
   ]
  },
  {
   "cell_type": "code",
   "execution_count": 1,
   "metadata": {},
   "outputs": [],
   "source": [
    "import os\n",
    "import easyocr"
   ]
  },
  {
   "cell_type": "code",
   "execution_count": 2,
   "metadata": {},
   "outputs": [],
   "source": [
    "reader = easyocr.Reader(lang_list=[\"en\"]) # or fr ?"
   ]
  },
  {
   "cell_type": "code",
   "execution_count": 3,
   "metadata": {},
   "outputs": [
    {
     "name": "stdout",
     "output_type": "stream",
     "text": [
      "prop 1\n",
      "page 1\n",
      "page 2\n",
      "page 3\n",
      "page 4\n",
      "page 5\n",
      "page 6\n"
     ]
    },
    {
     "data": {
      "text/plain": [
       "{'./datas/01/page0001_4.jpg': ' PAYEZ EN DiSTRIP( 3X SANS experience innovation FRAIS RETROUVEZ TOUTES NOS OFFRES & BONS PLANS CHEZ NOTRE PARTENAIRE LAPUB.RE 09 AU 27 LENOVO IDEAPAD 1ISIAUZ (82QDOO8FFE) 15.6\" LED FHD, Intel Core i3-1235U,4G0,SSD 256G0, WiFi Bluetooth; Webcam, Windows 11 Famille 3998 | Soit 3x 133€ 1 Dont 0.3O€ decoparticipation 8 3 1 ] 3 I 1 L k 8 Qoego 3 1 2 3 2 EN 6 anoots DMINtMNT 0 M 8 \" 1 3 J 2 OMEGA DESTRUCTEUR OM421058 1 Permet de detruire jusqua 6 feuilles de 7Og/m? Coupe en bandes de Tmm; Capacite M 34,90€ 2 | 2 Dont 0.42€ deccparticpaticn 4 9 2 12 3XSRNS MAGASINS OUVERTS DU LUNDI AU SAMEDI REJOIGNEZ-NOUS SUR PARCLRTD BANCLIRO FRAIS DE 9H A 12H30 & DE 13H30 A 18H FACEBOOK VISA Mastcrcald SAINT-LOUIS SAINT-PIERRE SAINT-PAUL SAINT-DENIS SAINT-ANDRE FACEBOOKCOM/DISTRIPC SAINT-LOUIS SAINT-PIERRE SAINT-PAUL SAINT-DENIS SAINT-ANDRE ZI BEL AIR CENTRE VILLE SAVANNAH LE VILLAGE ZAC ANDROPOLIS 0262 91 02 02 0262 91 90 91 0262 22 31 31 ZI DU CHAUDRON 0262 53 80 86 Ferme le lundi 0262 90 08 08 LAPUB RE DU JANVIER SUR LIGNE WWWDISTRIPCCOM ACHATS vos FAITES',\n",
       " './datas/01/page0004_4.jpg': ' MOBILES \\'COMPATIBLES TOUS DEBL BLACKVIEW A55 PRO Smartphone 4G-LTE Dual SIM, Processeur P22 Octo-Core 2OOGHz, RAM 4G0, Ecran tactile 6.528\" HD+ IPS, 6460, Bluetooth; 478OmAh; Android 11.0, DAS : 0,169W/kg BLACKVIEW A55 109€ Smartphone 46-LTE Dual Dont 0.02€ decopanicipation SIM, Processeur Quad-Core 2OOGHz, RAM3Go, 08 1 Ecran tactile 6.528\" HD+, 16G0, Bluetooth; 4780mAh; 08 TSFHF Android I1.0,DAS : 0,38W/kg 1 89€ 3 Dont O.0Z€ decopartizipajion 3 1 BLACKVIEW BV62O0 Smartphone robuste IP69K, 4G-LTE, Dual SIM, MediaTek Helio 1 A22,RAM 4G0, Ecran tactile 6.56\" HD IPS,6460, Bluetooth 5.0, IzOOOmAh; Android 13.0, 1 1498\" BLACKVIEW BV53OO Dont O.02€ decopanicipation 1 Smartphone robuste IP69K, 46-LTE; Dual SIM, MediaTek 1 Helio A22,RAM 4G0, Ecran tactile 6.1\" HD IPS, 32G0, Bluetooth 5.0, 1 1 658OmAh; Android 12.0, DAS : 0,737 W/kg 1198 1 Dont O.OZ€ decoparticipation 12 BLACKVIEW AIOO Android Smartphone 46-LTE Dual SIM; Processeur Octo-Core 2OOGHz, RAM 6G0, Ecran tactile 6.67\" HD+, 128G0, Bluetooth; 4680mAh; Android I1.O, DAS : 0,678W/kg L Bmactonone A85TE Dual SIM, 1998 Unisoc Tiger T606 Octo-Core, Dont 0.02€ deccpartic pation PsM,2600 EBraetoothi6 6.56\"FHD 0 4480mAh; Android 10.0, DAS : 1,227W/kg 1 168€ Soit/3x 56€ 1 Dont O.02€ decopart cipaticn 1 ] APPLE IPHONE 11 6460 Smartphone 4G-LTE Advanced SAMSUNG GALAXY A54 56 IP68 Dual SIM, Apple A13 Bionic L S660tph286oG-LTE Dual SIM Eeran Gore82AX 7G2. 64G0, IP67, Exynos 1380 Octo-Core NFC Bluetooth 5.0,i0S 13, 24GHz, RAM 6G0, Ecran tactile DAS : 0,95W/kg Super AMOLED 12OHz 6.4\" 498€ 1080 x 2340,128G0, NFC Bluetooth 5.3,S0OOmAh; >Soit 3X 1668 Android 13, DAS : 0,693W/kg Dont O.OZ€ decoparicipation 399€ > SoitB3x 133€ Dont 0.02€ decoparicipajicn EN vos OPERATEURS ! OQUES; NUS;  SuR LIGNE AchATS WWWDISTRIPCCOM FAITES',\n",
       " './datas/01/page0003_4.jpg': ' ACER ASPIRE 5 A515-45-R6TZ AMD Ryzen 7 5700U, 8G0, SSD 512G0,15.6\" LED Full HD, WiFi Bluetooth; Webcam; Windows II Famille 64 bits HP LAPTOP 15s-FQSO22NF (70899EA) 15.6\" LED FHD IPS, Intel Core i7-1255U,16G0, 789€ SSD 512G0, WiFi Bluetooth; Webcam; Soit /3x 263€ Windows II Famille Vont 0.30€ d ecopattic pation 897e Soit 3X 299€ Dont OZ0€ decopartizipajicn SAMSUNG GALAXY BOOK3 (NPZSOXFG-KBIFR) 15.6\" LED Full HD, Intel Core i7-1355U, 16G0, SSD 512G0, WiFi 6E Bluetooth; Webcam; Windows II Famille 12480 > Soit/3x 416t Dont 0.42€ deccpartic pation ACER NITRO 5 AN515-45-R547 15.6\" LED FHD IPS 144Hz, AMD Ryzen 7-5800H,16G0, SSD ITo, NVIDIA GeForce RTX 3060 660, WiFi AX Bluetooth; Webcam; Windows II Famille 1269€ Soit/3x 4230 Dont 0.42€ deccpartic paticn acer NITRO acer NITRO ACER NITRO 5 AN51S-45-RZZU 15.6\" LED Full HD 144Hz, AMD Ryzen 5 5600H, 16G0, SSD ITo, NVIDIA GeForce RTX 3070, WiFi AX / Bluetooth; Webcam; Windows Famille 64 bits 1389€ ACER NITRO 5 AN517-55-54EK 17.3\" FHD IPS MATE 144Hz Intel Core i5-12450H,16G0, Soit 3x 4630 SSD 512G0,NVIDIA GeForce RTX 4060 8G0, Dcnt 042€ decopanicipation WiFi 6E Bluetooth; Webcam; Windows II Famille 14498 Soit/3x 483€ Dont 0.42€ deccpartic paticn EN 3 SUR LIGNE WWWDISTRIPCCOM ACHATS vos FAITES',\n",
       " './datas/01/page0006_4.jpg': ' ACCESSOIRESL EN RYGHT RM312422 Bande LED RGBIC Jm + Application Telecommande; Sillumine au rythme de la musique: Contenu du package Bande LED, cable alimentation; Telecommande; Manuel utilisateur Egalement disponible en Sm 1 a 24,90€ 19,90€ 1 Dont O.O2€ deccparticipaticn 3 3 1 06( VOLKANO SCENE SERIES VK-51SO-BK 1 Cadre photo numerique intelligent; Logiciel Frameo integre, 10,1\" , CPU Quad-Core Cortex-A35 I.SGHz, RAM IGb; ROM I6Gb, WiFi, MicroSD; USB; Android I1 1 Dont 0.02€ deccpartic pation 89€ KSIX SMALL C (BXGPCO2) 1 Casque stereo intra auriculaire; Connecteur USB WACOM ONE BY WACOM Type-C; Microphone SMALL 1 et boutons integres, Tablette graphique a stylet; Coussins de differentes 152 x 95mm, 2540lpi, tailles pour s\\'adapter 1 2048 Niveaux de pression parfaitement a /\\'oreille (PC_ MAC) 1 Dcnt 0028 d Ecopartic pation 45€ Don: 0.05€ d Ecoparticipation L 1 j 10 1 08 ] | WE GAMIUM WEGDESK Bureau gamer; Support casque & gobelet; Structure en metal, Plateau en fibre de carbone effet texture, Poids max 1 supporte : IOOkg; Largeur 1,2Om LENOVO M9 TBSIOFU 138€ Tablette 9\" HD, Mediatek Helio G80, 4G0,6460 eMMC, Android 12 Soit/3x 46€ Etui Folio Film protecteur INCLUS ! 1898 Soit 3X 638 Don: 02S€ deccparticipaticn SUR LIGNE AchAts WWWDISTRIPCCOM Vos FAITES 9,90€',\n",
       " './datas/01/page0002_4.jpg': ' PORTABLES LENOVO IDEAZMGOOBWFEZ 1 15.6\" LED FHD, AMD Ryzen 5 7520U, 8G0, SSD 512G0, WiFi / Bluetooth; Webcam; Windows II Famille 4778 Soit 3x] 1598 Dont O30€ dezopattic Dation 1 1 Eje] 3 3 1 5 1 LENOVO IDEAPAD 3 (81WQOOAMFR) 15.6\" LED Full HD, Intel NSO3O, 8Go,256G0 WiFi AC Bluetooth; Webcam; Windows IIH 1 399€ SoitFxl 1330 1 Dont 0.0€ decoparticipaion 1 1 HP LAPTOP 17-CPZOOONF  173\" LED FHDUPGOtMDevzen 5 W2OOwsGfasiei2Go, 678€ Soit 3x 226€ Cont O.30€ decopanizipaton LENOVO V15 (82TTOOEVFR) 15.6\" LED FHD, Intel Core i3-1215U,8G0,512G0 WiFi Bluetooth; Webcam; Windows II Famille 64 bits 1 4898 j Soit 3X 163€ Dont 030€ decopant zipation 1 ] L 15.6\" LED FHDA IPSOPMS EG209ZMOCBLTGGGASD 512G0, WiFi Bluetooth; Webcam; Windows II Famille 789€ Soit/3x 263€ Dcnt OZO€ decoparticipaticn HP LAPTOP 15S-FQSOZSNF (8R8Q4EA) 15.6\" LED FHD, Intel Core i5-1235U,16G0,SSD 512G0, WiFi Bluetooth; Webcam; Windows II Famille 7478 EN > Soit 3X 249€ Dont 030€ decoparticipajicn SUR LIGNE ACHATS WWWDISTRIPCCOM Vos FAITES',\n",
       " './datas/01/page0005_4.jpg': \" LA DJI  DE EN DJI RYZE TELLO Mini drone volant; Camera HD 72Op embarquee; Capteur SMp; Autonomie I3min; Portee IOOm; WiFi, Compatible iOS et Android 99,90€ Dont 0.03€ decopartiopation DJI MINI 2 SE FLY MORE COMBO Quadricoptere compact; Camera embarquee 2.7K, FOV 839, Stabilisation 3 axes Distance de vol IOkm, Batterie 2250mAh; Duree de vol 3lmin. Ce pack combo inclut 3 Batteries de vol intelligentes Paires d'helices de rechange; DJI OSMO MOBILE 6 1 Station de recharge bidirectionnelle Stabilisateur pour DJI Mini 2, 1 Protege helice et Sac a smartphone; Pliable; bandouliere Attache magnetique, 4898 Portrait Paysage 6h24 d'autonomie; Soit/x 163€ Bluetooth 5.1 Dont 0.634 decoparticipation 168€ Soit /x 56€ Dont 0.08€ decoparticipation DJI MINI 3 GL Quadricoptere compact; Camera embarquee 4K, FOV 82.18, Stabilisation 3axes; Distance de vol IOkm, Duree de vol 38min, Telecommande RC-NI 468€ Soit/3x 156€ Dont 0.17€ deccparticipaticn DJI MINI 4 PRO Quadricoptere compact; DJI OSMO MOBILE SE Camera embarquee 4K, Stabilisateur pour FOV 82.19 , Stabilisation 3 axes smartphone; Pliable, Distance de vol I8km, Batterie Attache magnetique; 2590mAh; Duree de vol 34min; Portrait Paysage, Telecommande RC-NI 8h dautonomie; Bluetooth 5.1 798€ 109€ Soit 3X 266€ Dcnt 0.17€ d ecopartic pation Dont 0OB€ deccparticipaticn DJI GAMME TOUTE DISTRIPC RETROUVEZ CHEZ PRODUITS METROPOLE PRIX SUR LIGNE WWWDISTRIPCCOM ACHATS vos FAITES\"}"
      ]
     },
     "execution_count": 3,
     "metadata": {},
     "output_type": "execute_result"
    }
   ],
   "source": [
    "datas_dict = {}\n",
    "\n",
    "p_indice = 0\n",
    "page_indice = 0\n",
    "# for prospectus in os.listdir(\"./datas\"): # TODO: Absolute path instead !\n",
    "for prospectus in [\"01\"]: # ! DELETE (USE TO TEST)\n",
    "\n",
    "    p_indice += 1\n",
    "    print(\"Prospectus n°\",p_indice)\n",
    "\n",
    "    for page in os.listdir(f\"./datas/{prospectus}\"):\n",
    "        page_indice += 1\n",
    "        print(page_indice)\n",
    "\n",
    "        full_path = f\"./datas/{prospectus}/{page}\"\n",
    "        text_content = \"\"\n",
    "\n",
    "        results = reader.readtext(full_path)\n",
    "        for result in results:\n",
    "            text_content += \" \" + str(result[1]) # TODO: Remove useless first space\n",
    "\n",
    "        datas_dict[full_path] = text_content\n",
    "\n",
    "datas_dict"
   ]
  }
 ],
 "metadata": {
  "kernelspec": {
   "display_name": ".env",
   "language": "python",
   "name": "python3"
  },
  "language_info": {
   "codemirror_mode": {
    "name": "ipython",
    "version": 3
   },
   "file_extension": ".py",
   "mimetype": "text/x-python",
   "name": "python",
   "nbconvert_exporter": "python",
   "pygments_lexer": "ipython3",
   "version": "3.11.6"
  }
 },
 "nbformat": 4,
 "nbformat_minor": 2
}
